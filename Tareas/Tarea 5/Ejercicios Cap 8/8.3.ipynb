{
 "cells": [
  {
   "cell_type": "code",
   "execution_count": 1,
   "id": "e61872f6",
   "metadata": {},
   "outputs": [],
   "source": [
    "import numpy as np\n",
    "import matplotlib.pyplot as plt\n",
    "import scipy as sp\n",
    "from scipy.optimize import curve_fit"
   ]
  },
  {
   "cell_type": "code",
   "execution_count": 2,
   "id": "876157dd",
   "metadata": {},
   "outputs": [],
   "source": [
    "def ProbDistFuncChi2(chi2, v):\n",
    "    return ( (chi2**((v/2)-1))*np.exp(-chi2/2) )/( (2**(v/2))*sp.special.gamma(v/2) )"
   ]
  },
  {
   "cell_type": "code",
   "execution_count": 3,
   "id": "a5263236",
   "metadata": {},
   "outputs": [],
   "source": [
    "def ProbDistFuncGauss(X, mu, sigma):\n",
    "    \n",
    "    return ( np.exp( -((X - mu)**2)/(2*(sigma**2)) ) )/( (sigma*np.sqrt(2*np.pi)) )"
   ]
  },
  {
   "cell_type": "code",
   "execution_count": 4,
   "id": "6a340f0f",
   "metadata": {},
   "outputs": [],
   "source": [
    "Counts = np.array( [9, 48, 142, 154, 438, 521, 405, 318, 299, 100, 57, 9] )\n",
    "Intervals = np.array( [(-np.inf, -2.5), (-2.5, -2), (-2, -1.5), (-1.5, -1), (-1, -0.5), (-0.5, 0), (0, 0.5), (0.5, 1), (1, 1.5), (1.5, 2), (2, 2.5), (2.5, np.inf)] )\n",
    "Expected_Values = np.zeros( len(Counts) )\n",
    "MidVals = np.zeros( len(Counts) )"
   ]
  },
  {
   "cell_type": "code",
   "execution_count": 5,
   "id": "a0c9e9d9",
   "metadata": {},
   "outputs": [
    {
     "data": {
      "text/plain": [
       "0.0036"
      ]
     },
     "execution_count": 5,
     "metadata": {},
     "output_type": "execute_result"
    }
   ],
   "source": [
    "Total_Counts = Counts.sum()\n",
    "\n",
    "pon_sum = 0\n",
    "for i in range(0, len(Counts)):\n",
    "    \n",
    "    if i == 0:\n",
    "        midval = (Intervals[i][1])\n",
    "        \n",
    "    elif i == len(Counts) -1:\n",
    "        midval = (Intervals[i][0])\n",
    "        \n",
    "    else:\n",
    "        midval = (Intervals[i][0] + Intervals[i][1])/2\n",
    "        \n",
    "    MidVals[i] = midval\n",
    "    pon_sum += midval*Counts[i]\n",
    "    \n",
    "    \n",
    "mean = pon_sum/Total_Counts\n",
    "mean"
   ]
  },
  {
   "cell_type": "code",
   "execution_count": 6,
   "id": "186feba4",
   "metadata": {},
   "outputs": [
    {
     "data": {
      "text/plain": [
       "1.0153075296440488"
      ]
     },
     "execution_count": 6,
     "metadata": {},
     "output_type": "execute_result"
    }
   ],
   "source": [
    "sum_variance = 0\n",
    "\n",
    "for i in range(0, len(Counts)):\n",
    "    \n",
    "    if i == 0:\n",
    "        midval = (Intervals[i][1])\n",
    "        \n",
    "    elif i == len(Counts) -1:\n",
    "        midval = (Intervals[i][0])\n",
    "        \n",
    "    else:\n",
    "        midval = (Intervals[i][0] + Intervals[i][1])/2\n",
    "        \n",
    "    sum_variance += Counts[i]*(midval-mean)**2\n",
    "    \n",
    "std = np.sqrt(sum_variance/(Total_Counts-1))\n",
    "std"
   ]
  },
  {
   "cell_type": "code",
   "execution_count": 7,
   "id": "81608a3a",
   "metadata": {},
   "outputs": [
    {
     "name": "stderr",
     "output_type": "stream",
     "text": [
      "C:\\Users\\santi\\anaconda3\\Lib\\site-packages\\scipy\\optimize\\_minpack_py.py:1010: OptimizeWarning: Covariance of the parameters could not be estimated\n",
      "  warnings.warn('Covariance of the parameters could not be estimated',\n"
     ]
    }
   ],
   "source": [
    "popt, pcov = curve_fit( ProbDistFuncGauss, MidVals, Counts, maxfev = 100000 )"
   ]
  },
  {
   "cell_type": "code",
   "execution_count": 8,
   "id": "91769b9f",
   "metadata": {},
   "outputs": [
    {
     "name": "stdout",
     "output_type": "stream",
     "text": [
      "-0.2500398804902577\n",
      "0.0007646834949014625\n"
     ]
    }
   ],
   "source": [
    "mean_sp = popt[0]\n",
    "std_sp = popt[1]\n",
    "\n",
    "print(mean_sp)\n",
    "print(std_sp)"
   ]
  },
  {
   "cell_type": "code",
   "execution_count": 9,
   "id": "3e785c94",
   "metadata": {},
   "outputs": [
    {
     "data": {
      "text/plain": [
       "array([ 17.08588569,  43.47772814, 112.7177174 , 230.37244165,\n",
       "       371.20775628, 471.60213046, 472.40979697, 373.11829269,\n",
       "       232.35212451, 114.07628199,  44.1527387 ,  17.4271055 ])"
      ]
     },
     "execution_count": 9,
     "metadata": {},
     "output_type": "execute_result"
    }
   ],
   "source": [
    "for i in range(0, len(Expected_Values)):\n",
    "    \n",
    "    area_proportion, error = sp.integrate.quad(ProbDistFuncGauss, Intervals[i][0], Intervals[i][1], args=(mean, std))\n",
    "    \n",
    "    Expected_Values[i] = Total_Counts*area_proportion\n",
    "    \n",
    "Expected_Values"
   ]
  },
  {
   "cell_type": "markdown",
   "id": "9b276aad",
   "metadata": {},
   "source": [
    "Note que todos los valores esperados, para todos los intervalos, son mayores que 5"
   ]
  },
  {
   "cell_type": "code",
   "execution_count": 10,
   "id": "80f713ba",
   "metadata": {},
   "outputs": [
    {
     "name": "stdout",
     "output_type": "stream",
     "text": [
      "100.84376491804413\n"
     ]
    }
   ],
   "source": [
    "A = ((Counts - Expected_Values)**2)/Expected_Values\n",
    "\n",
    "chi2 = A.sum()\n",
    "print(chi2)"
   ]
  },
  {
   "cell_type": "code",
   "execution_count": 11,
   "id": "6f676531",
   "metadata": {},
   "outputs": [
    {
     "data": {
      "text/plain": [
       "2498"
      ]
     },
     "execution_count": 11,
     "metadata": {},
     "output_type": "execute_result"
    }
   ],
   "source": [
    "v = Total_Counts - 2\n",
    "v"
   ]
  },
  {
   "cell_type": "code",
   "execution_count": 12,
   "id": "2ab79909",
   "metadata": {},
   "outputs": [
    {
     "data": {
      "text/plain": [
       "0.040369801808664584"
      ]
     },
     "execution_count": 12,
     "metadata": {},
     "output_type": "execute_result"
    }
   ],
   "source": [
    "chi2_v = chi2/v\n",
    "chi2_v"
   ]
  },
  {
   "cell_type": "markdown",
   "id": "152ebec3",
   "metadata": {},
   "source": [
    "De acuerdo a la teoría, un valor de $\\chi^2 << 1$ es indicativo de un mal cálculo de las incertidumbres de las mediciones. No obstante, dado que para este ejercicio tomamos $E_i$ como dicha incertidumbre, podemos descartar esta posibiilidad. Por ende, este es un buen fit a los datos."
   ]
  },
  {
   "cell_type": "code",
   "execution_count": 13,
   "id": "2f5071f1",
   "metadata": {},
   "outputs": [
    {
     "name": "stderr",
     "output_type": "stream",
     "text": [
      "C:\\Users\\santi\\AppData\\Local\\Temp\\ipykernel_38836\\1557710555.py:2: RuntimeWarning: overflow encountered in scalar power\n",
      "  return ( (chi2**((v/2)-1))*np.exp(-chi2/2) )/( (2**(v/2))*sp.special.gamma(v/2) )\n",
      "C:\\Users\\santi\\AppData\\Local\\Temp\\ipykernel_38836\\1557710555.py:2: RuntimeWarning: invalid value encountered in scalar divide\n",
      "  return ( (chi2**((v/2)-1))*np.exp(-chi2/2) )/( (2**(v/2))*sp.special.gamma(v/2) )\n",
      "C:\\Users\\santi\\AppData\\Local\\Temp\\ipykernel_38836\\1557710555.py:2: RuntimeWarning: invalid value encountered in scalar multiply\n",
      "  return ( (chi2**((v/2)-1))*np.exp(-chi2/2) )/( (2**(v/2))*sp.special.gamma(v/2) )\n",
      "C:\\Users\\santi\\AppData\\Local\\Temp\\ipykernel_38836\\4197301183.py:1: IntegrationWarning: The occurrence of roundoff error is detected, which prevents \n",
      "  the requested tolerance from being achieved.  The error may be \n",
      "  underestimated.\n",
      "  prob_chi2min, errorprob_chi2min = sp.integrate.quad(ProbDistFuncChi2, chi2, np.inf, v)\n"
     ]
    },
    {
     "name": "stdout",
     "output_type": "stream",
     "text": [
      "nan\n",
      "1.0\n"
     ]
    }
   ],
   "source": [
    "prob_chi2min, errorprob_chi2min = sp.integrate.quad(ProbDistFuncChi2, chi2, np.inf, v)\n",
    "\n",
    "print(prob_chi2min)\n",
    "\n",
    "print(1-sp.stats.chi2.cdf(chi2, v))"
   ]
  }
 ],
 "metadata": {
  "kernelspec": {
   "display_name": "Python 3 (ipykernel)",
   "language": "python",
   "name": "python3"
  },
  "language_info": {
   "codemirror_mode": {
    "name": "ipython",
    "version": 3
   },
   "file_extension": ".py",
   "mimetype": "text/x-python",
   "name": "python",
   "nbconvert_exporter": "python",
   "pygments_lexer": "ipython3",
   "version": "3.11.5"
  }
 },
 "nbformat": 4,
 "nbformat_minor": 5
}
