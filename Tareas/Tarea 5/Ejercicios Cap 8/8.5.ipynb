{
 "cells": [
  {
   "cell_type": "code",
   "execution_count": 1,
   "id": "27040247",
   "metadata": {},
   "outputs": [],
   "source": [
    "import numpy as np\n",
    "import matplotlib.pyplot as plt\n",
    "import scipy as sp"
   ]
  },
  {
   "cell_type": "code",
   "execution_count": 2,
   "id": "47d1dfd9",
   "metadata": {},
   "outputs": [],
   "source": [
    "def ProbDistFuncChi2(chi2, v):\n",
    "    return ( (chi2**((v/2)-1))*np.exp(-chi2/2) )/( (2**(v/2))*sp.special.gamma(v/2) )"
   ]
  },
  {
   "cell_type": "markdown",
   "id": "304204e1",
   "metadata": {},
   "source": [
    "Como todos los intervalos tienen la misma duración (y estamos asumiendo una distribución uniforme), todos los intervalos deben tener el mismo número de goles esperados. Por ende:"
   ]
  },
  {
   "cell_type": "code",
   "execution_count": 3,
   "id": "6dc341bc",
   "metadata": {},
   "outputs": [
    {
     "data": {
      "text/plain": [
       "11.222222222222221"
      ]
     },
     "execution_count": 3,
     "metadata": {},
     "output_type": "execute_result"
    }
   ],
   "source": [
    "Total_Goals = 101\n",
    "\n",
    "Expected_Goals_per_Interval = Total_Goals/9\n",
    "Expected_Goals_per_Interval"
   ]
  },
  {
   "cell_type": "markdown",
   "id": "22f17764",
   "metadata": {},
   "source": [
    "Note que el número de goles esperados por intervalo es mayor a 5. Por ende, no es necesario combinar intervalos."
   ]
  },
  {
   "cell_type": "code",
   "execution_count": 4,
   "id": "e3fd447a",
   "metadata": {},
   "outputs": [
    {
     "data": {
      "text/plain": [
       "10.475247524752476"
      ]
     },
     "execution_count": 4,
     "metadata": {},
     "output_type": "execute_result"
    }
   ],
   "source": [
    "Goals = np.array( [6, 11, 8, 8, 14, 12, 11, 12, 19] )\n",
    "\n",
    "A = ((Goals- Expected_Goals_per_Interval)**2)/Expected_Goals_per_Interval\n",
    "chi2 = A.sum()\n",
    "chi2"
   ]
  },
  {
   "cell_type": "code",
   "execution_count": 5,
   "id": "0269f681",
   "metadata": {},
   "outputs": [
    {
     "data": {
      "text/plain": [
       "100"
      ]
     },
     "execution_count": 5,
     "metadata": {},
     "output_type": "execute_result"
    }
   ],
   "source": [
    "v = Total_Goals - 1\n",
    "v"
   ]
  },
  {
   "cell_type": "code",
   "execution_count": 6,
   "id": "4399c488",
   "metadata": {},
   "outputs": [
    {
     "data": {
      "text/plain": [
       "0.10475247524752476"
      ]
     },
     "execution_count": 6,
     "metadata": {},
     "output_type": "execute_result"
    }
   ],
   "source": [
    "chi2_v = chi2/v\n",
    "chi2_v"
   ]
  },
  {
   "cell_type": "code",
   "execution_count": 7,
   "id": "834d810e",
   "metadata": {},
   "outputs": [
    {
     "name": "stdout",
     "output_type": "stream",
     "text": [
      "1.0000000000000002\n",
      "1.0\n"
     ]
    }
   ],
   "source": [
    "prob_chi2min, errorprob_chi2min = sp.integrate.quad(ProbDistFuncChi2, chi2, np.inf, v)\n",
    "\n",
    "print(prob_chi2min)\n",
    "\n",
    "print(1-sp.stats.chi2.cdf(chi2, v))"
   ]
  },
  {
   "cell_type": "markdown",
   "id": "f6a326ff",
   "metadata": {},
   "source": [
    "Note que tenemos que $\\chi^2 << 1$ y, además, $P(\\chi^2; \\nu) \\approx 1$. Esto es indicativo de un mal fit a los datos, lo que muestra que los goles no siguen una distribución uniforme."
   ]
  },
  {
   "cell_type": "code",
   "execution_count": null,
   "id": "648ce846",
   "metadata": {},
   "outputs": [],
   "source": []
  }
 ],
 "metadata": {
  "kernelspec": {
   "display_name": "Python 3 (ipykernel)",
   "language": "python",
   "name": "python3"
  },
  "language_info": {
   "codemirror_mode": {
    "name": "ipython",
    "version": 3
   },
   "file_extension": ".py",
   "mimetype": "text/x-python",
   "name": "python",
   "nbconvert_exporter": "python",
   "pygments_lexer": "ipython3",
   "version": "3.11.5"
  }
 },
 "nbformat": 4,
 "nbformat_minor": 5
}
