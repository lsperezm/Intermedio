{
 "cells": [
  {
   "cell_type": "code",
   "execution_count": 1,
   "id": "65fa8433",
   "metadata": {},
   "outputs": [],
   "source": [
    "import numpy as np\n",
    "import matplotlib.pyplot as plt\n",
    "import scipy as sp"
   ]
  },
  {
   "cell_type": "code",
   "execution_count": 2,
   "id": "cea3de46",
   "metadata": {},
   "outputs": [],
   "source": [
    "def ProbDistFuncChi2(chi2, v):\n",
    "    return ( (chi2**((v/2)-1))*np.exp(-chi2/2) )/( (2**(v/2))*sp.special.gamma(v/2) )"
   ]
  },
  {
   "cell_type": "code",
   "execution_count": 3,
   "id": "1ca95acb",
   "metadata": {},
   "outputs": [],
   "source": [
    "X_65 = np.array( [0.05, 0.25, 0.45, 0.65, 0.85, 1.05, 1.25, 1.45, 1.65, 1.85] )\n",
    "\n",
    "Y_65 = np.array( [0.00, 0.21, 0.44, 0.67, 0.88, 1.1, 1.3, 1.5, 2.0, 2.24] )\n",
    "Yerr_65 = np.array( [0.05, 0.05, 0.05, 0.05, 0.09, 0.1, 0.2, 0.5, 0.1, 0.07] )"
   ]
  },
  {
   "cell_type": "code",
   "execution_count": 4,
   "id": "4827604f",
   "metadata": {},
   "outputs": [],
   "source": [
    "#Resultados Ejercicio 6.5\n",
    "\n",
    "m_65 = 1.24\n",
    "b_65 = -0.11"
   ]
  },
  {
   "cell_type": "code",
   "execution_count": 5,
   "id": "308d82eb",
   "metadata": {},
   "outputs": [],
   "source": [
    "X_78 = np.array( [0.025, 0.05, 0.075, 0.100, 0.125, 0.150, 0.175] )\n",
    "\n",
    "Y_78 = np.array( [10.7, 21.6, 32.4, 43.1, 53.9, 64.9, 75.4] )\n",
    "Yerr_78 = np.array( [0.1, 0.1, 0.1, 0.1, 0.1, 0.1, 0.1] )"
   ]
  },
  {
   "cell_type": "code",
   "execution_count": 6,
   "id": "707a7c4c",
   "metadata": {},
   "outputs": [],
   "source": [
    "#Resultados Ejercicio 7.8 (presentes en el enunciado)\n",
    "\n",
    "m_78 = 431.7\n",
    "b_78 = -0.03"
   ]
  },
  {
   "cell_type": "code",
   "execution_count": 7,
   "id": "80742a6d",
   "metadata": {},
   "outputs": [
    {
     "data": {
      "text/plain": [
       "4.290655012345681"
      ]
     },
     "execution_count": 7,
     "metadata": {},
     "output_type": "execute_result"
    }
   ],
   "source": [
    "y_65 = m_65*X_65 + b_65\n",
    "\n",
    "A = ((Y_65-y_65)**2)/(Yerr_65**2)\n",
    "\n",
    "chi2_65 = A.sum()\n",
    "chi2_65"
   ]
  },
  {
   "cell_type": "code",
   "execution_count": 8,
   "id": "83a8893c",
   "metadata": {},
   "outputs": [
    {
     "data": {
      "text/plain": [
       "5.577500000000268"
      ]
     },
     "execution_count": 8,
     "metadata": {},
     "output_type": "execute_result"
    }
   ],
   "source": [
    "y_78 = m_78*X_78 + b_78\n",
    "\n",
    "B = ((Y_78-y_78)**2)/(Yerr_78**2)\n",
    "\n",
    "chi2_78 = B.sum()\n",
    "chi2_78"
   ]
  },
  {
   "cell_type": "code",
   "execution_count": 9,
   "id": "51013ef3",
   "metadata": {},
   "outputs": [
    {
     "name": "stdout",
     "output_type": "stream",
     "text": [
      "8\n",
      "5\n"
     ]
    }
   ],
   "source": [
    "v_65 = len(X_65) - 2\n",
    "v_78 = len(X_78) - 2\n",
    "\n",
    "print(v_65)\n",
    "print(v_78)"
   ]
  },
  {
   "cell_type": "code",
   "execution_count": 10,
   "id": "bef0de82",
   "metadata": {},
   "outputs": [
    {
     "name": "stdout",
     "output_type": "stream",
     "text": [
      "0.5363318765432101\n",
      "0.8299936749868069\n",
      "0.8299936749868069\n"
     ]
    }
   ],
   "source": [
    "chi2_v_65 = chi2_65/v_65\n",
    "print(chi2_v_65)\n",
    "\n",
    "prob_chi2min, errorprob_chi2min = sp.integrate.quad(ProbDistFuncChi2, chi2_65, np.inf, v_65)\n",
    "\n",
    "print(prob_chi2min)\n",
    "\n",
    "print(1-sp.stats.chi2.cdf(chi2_65, v_65))"
   ]
  },
  {
   "cell_type": "code",
   "execution_count": 11,
   "id": "20454b55",
   "metadata": {},
   "outputs": [
    {
     "name": "stdout",
     "output_type": "stream",
     "text": [
      "1.1155000000000537\n",
      "0.3495225420043223\n",
      "0.3495225420043222\n"
     ]
    }
   ],
   "source": [
    "chi2_v_78 = chi2_78/v_78\n",
    "print(chi2_v_78)\n",
    "\n",
    "prob_chi2min, errorprob_chi2min = sp.integrate.quad(ProbDistFuncChi2, chi2_78, np.inf, v_78)\n",
    "\n",
    "print(prob_chi2min)\n",
    "\n",
    "print(1-sp.stats.chi2.cdf(chi2_78, v_78))"
   ]
  },
  {
   "cell_type": "markdown",
   "id": "134e8f40",
   "metadata": {},
   "source": [
    "Para el primer fit (6.5) encontramos que el chi cuadrado reducido no es muy cercano a 1, y $P(\\chi^2_{min}; \\nu)$ no es muy cercano a 0.5. Esto es indicativo de un mal fit; sin embargo, es posible que este valor se deba a las altas incertidumbres en este set de datos. Por otro lado, el segundo fit (7.8) muestra valores de chi cuadrado reducido y $P(\\chi^2_{min}; \\nu)$ acordes con lo que se esperaría para un buen fit. Esto tiene sentido si se tiene en cuenta que este conjunto de datos tiene un error bajo de 0.1° para todos los datos."
   ]
  }
 ],
 "metadata": {
  "kernelspec": {
   "display_name": "Python 3 (ipykernel)",
   "language": "python",
   "name": "python3"
  },
  "language_info": {
   "codemirror_mode": {
    "name": "ipython",
    "version": 3
   },
   "file_extension": ".py",
   "mimetype": "text/x-python",
   "name": "python",
   "nbconvert_exporter": "python",
   "pygments_lexer": "ipython3",
   "version": "3.11.5"
  }
 },
 "nbformat": 4,
 "nbformat_minor": 5
}
