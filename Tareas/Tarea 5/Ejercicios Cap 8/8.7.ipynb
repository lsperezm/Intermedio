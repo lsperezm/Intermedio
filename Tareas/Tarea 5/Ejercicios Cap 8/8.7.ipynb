{
 "cells": [
  {
   "cell_type": "code",
   "execution_count": 1,
   "id": "ebbf4186",
   "metadata": {},
   "outputs": [],
   "source": [
    "import numpy as np\n",
    "import matplotlib.pyplot as plt\n",
    "import scipy as sp"
   ]
  },
  {
   "cell_type": "code",
   "execution_count": 2,
   "id": "7e32729b",
   "metadata": {},
   "outputs": [],
   "source": [
    "def ProbDistFuncChi2(chi2, v):\n",
    "    return ( (chi2**((v/2)-1))*np.exp(-chi2/2) )/( (2**(v/2))*sp.special.gamma(v/2) )"
   ]
  },
  {
   "cell_type": "markdown",
   "id": "ec5738e4",
   "metadata": {},
   "source": [
    "Como todos los intervalos tienen la misma duración (y estamos asumiendo una distribución uniforme), todos los intervalos deben tener el mismo número de goles esperados. Por ende:"
   ]
  },
  {
   "cell_type": "code",
   "execution_count": 3,
   "id": "1c5d68bf",
   "metadata": {},
   "outputs": [
    {
     "data": {
      "text/plain": [
       "16.666666666666668"
      ]
     },
     "execution_count": 3,
     "metadata": {},
     "output_type": "execute_result"
    }
   ],
   "source": [
    "Total_Throws = 100\n",
    "\n",
    "Expected_Throws_per_Number = Total_Throws/6\n",
    "Expected_Throws_per_Number"
   ]
  },
  {
   "cell_type": "markdown",
   "id": "6986fc3a",
   "metadata": {},
   "source": [
    "Note que el número de goles esperados por intervalo es mayor a 5. Por ende, no es necesario combinar intervalos."
   ]
  },
  {
   "cell_type": "code",
   "execution_count": 8,
   "id": "e074ddc3",
   "metadata": {},
   "outputs": [
    {
     "name": "stdout",
     "output_type": "stream",
     "text": [
      "[0.00666667 1.12666667 0.42666667 0.80666667 0.02666667 0.32666667]\n"
     ]
    },
    {
     "data": {
      "text/plain": [
       "2.7199999999999998"
      ]
     },
     "execution_count": 8,
     "metadata": {},
     "output_type": "execute_result"
    }
   ],
   "source": [
    "Throws = np.array( [17, 21, 14, 13, 16, 19] )\n",
    "\n",
    "A = ((Throws - Expected_Throws_per_Number)**2)/Expected_Throws_per_Number\n",
    "print(A)\n",
    "chi2 = A.sum()\n",
    "chi2"
   ]
  },
  {
   "cell_type": "code",
   "execution_count": 5,
   "id": "a28e026f",
   "metadata": {},
   "outputs": [
    {
     "data": {
      "text/plain": [
       "99"
      ]
     },
     "execution_count": 5,
     "metadata": {},
     "output_type": "execute_result"
    }
   ],
   "source": [
    "v = Total_Throws - 1\n",
    "v"
   ]
  },
  {
   "cell_type": "code",
   "execution_count": 6,
   "id": "4b4a4af2",
   "metadata": {},
   "outputs": [
    {
     "data": {
      "text/plain": [
       "0.02747474747474747"
      ]
     },
     "execution_count": 6,
     "metadata": {},
     "output_type": "execute_result"
    }
   ],
   "source": [
    "chi2_v = chi2/v\n",
    "chi2_v"
   ]
  },
  {
   "cell_type": "code",
   "execution_count": 7,
   "id": "c8a25820",
   "metadata": {},
   "outputs": [
    {
     "name": "stdout",
     "output_type": "stream",
     "text": [
      "1.0\n",
      "1.0\n"
     ]
    }
   ],
   "source": [
    "prob_chi2min, errorprob_chi2min = sp.integrate.quad(ProbDistFuncChi2, chi2, np.inf, v)\n",
    "\n",
    "print(prob_chi2min)\n",
    "\n",
    "print(1-sp.stats.chi2.cdf(chi2, v))"
   ]
  },
  {
   "cell_type": "markdown",
   "id": "58748aff",
   "metadata": {},
   "source": [
    "Note que tenemos que $\\chi^2 << 1$ y, además, $P(\\chi^2; \\nu) \\approx 1$. Esto es indicativo de un mal fit a los datos, lo que muestra que no podemos afirmar que el dado sea justo."
   ]
  },
  {
   "cell_type": "code",
   "execution_count": null,
   "id": "348d3e5d",
   "metadata": {},
   "outputs": [],
   "source": []
  }
 ],
 "metadata": {
  "kernelspec": {
   "display_name": "Python 3 (ipykernel)",
   "language": "python",
   "name": "python3"
  },
  "language_info": {
   "codemirror_mode": {
    "name": "ipython",
    "version": 3
   },
   "file_extension": ".py",
   "mimetype": "text/x-python",
   "name": "python",
   "nbconvert_exporter": "python",
   "pygments_lexer": "ipython3",
   "version": "3.11.5"
  }
 },
 "nbformat": 4,
 "nbformat_minor": 5
}
