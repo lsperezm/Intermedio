{
 "cells": [
  {
   "cell_type": "code",
   "execution_count": 1,
   "id": "3d4e6d6e",
   "metadata": {},
   "outputs": [],
   "source": [
    "import numpy as np\n",
    "import matplotlib.pyplot as plt\n",
    "import scipy as sp"
   ]
  },
  {
   "cell_type": "code",
   "execution_count": 2,
   "id": "531571db",
   "metadata": {},
   "outputs": [],
   "source": [
    "def ProbDistFuncChi2(chi2, v):\n",
    "    return ( (chi2**((v/2)-1))*np.exp(-chi2/2) )/( (2**(v/2))*sp.special.gamma(v/2) )"
   ]
  },
  {
   "cell_type": "code",
   "execution_count": 3,
   "id": "5e0d8bc2",
   "metadata": {},
   "outputs": [
    {
     "name": "stdout",
     "output_type": "stream",
     "text": [
      "1.59\n",
      "0.1025310214583111\n",
      "0.10253102145831061\n"
     ]
    }
   ],
   "source": [
    "chi2min = 15.9\n",
    "v = 10\n",
    "\n",
    "chi2_v = chi2min/v\n",
    "\n",
    "print(chi2_v)\n",
    "\n",
    "prob_chi2min, errorprob_chi2min = sp.integrate.quad(ProbDistFuncChi2, chi2min, np.inf, v)\n",
    "\n",
    "print(prob_chi2min)\n",
    "\n",
    "print(1-sp.stats.chi2.cdf(chi2min, v))"
   ]
  },
  {
   "cell_type": "code",
   "execution_count": 4,
   "id": "94ecee45",
   "metadata": {},
   "outputs": [
    {
     "name": "stdout",
     "output_type": "stream",
     "text": [
      "1.59\n",
      "0.00015997985645171975\n",
      "0.0001599798564519972\n"
     ]
    }
   ],
   "source": [
    "chi2min = 159\n",
    "v = 100\n",
    "\n",
    "chi2_v = chi2min/v\n",
    "\n",
    "print(chi2_v)\n",
    "\n",
    "prob_chi2min, errorprob_chi2min = sp.integrate.quad(ProbDistFuncChi2, chi2min, np.inf, v)\n",
    "\n",
    "print(prob_chi2min)\n",
    "\n",
    "print(1-sp.stats.chi2.cdf(chi2min, v))"
   ]
  }
 ],
 "metadata": {
  "kernelspec": {
   "display_name": "Python 3 (ipykernel)",
   "language": "python",
   "name": "python3"
  },
  "language_info": {
   "codemirror_mode": {
    "name": "ipython",
    "version": 3
   },
   "file_extension": ".py",
   "mimetype": "text/x-python",
   "name": "python",
   "nbconvert_exporter": "python",
   "pygments_lexer": "ipython3",
   "version": "3.11.5"
  }
 },
 "nbformat": 4,
 "nbformat_minor": 5
}
