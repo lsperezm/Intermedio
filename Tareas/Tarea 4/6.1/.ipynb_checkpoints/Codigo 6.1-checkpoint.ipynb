{
 "cells": [
  {
   "cell_type": "markdown",
   "id": "30baba9f",
   "metadata": {},
   "source": [
    "## Caracterización"
   ]
  },
  {
   "cell_type": "code",
   "execution_count": 1,
   "id": "7477c1a3",
   "metadata": {},
   "outputs": [
    {
     "data": {
      "text/html": [
       "<div>\n",
       "<style scoped>\n",
       "    .dataframe tbody tr th:only-of-type {\n",
       "        vertical-align: middle;\n",
       "    }\n",
       "\n",
       "    .dataframe tbody tr th {\n",
       "        vertical-align: top;\n",
       "    }\n",
       "\n",
       "    .dataframe thead th {\n",
       "        text-align: right;\n",
       "    }\n",
       "</style>\n",
       "<table border=\"1\" class=\"dataframe\">\n",
       "  <thead>\n",
       "    <tr style=\"text-align: right;\">\n",
       "      <th></th>\n",
       "      <th>Frecuencia (Hz)</th>\n",
       "      <th>Voltaje (mV)</th>\n",
       "      <th>Error Voltaje (mV)</th>\n",
       "      <th>Error Frecuencia (Hz)</th>\n",
       "    </tr>\n",
       "  </thead>\n",
       "  <tbody>\n",
       "    <tr>\n",
       "      <th>0</th>\n",
       "      <td>10</td>\n",
       "      <td>16</td>\n",
       "      <td>5</td>\n",
       "      <td>0</td>\n",
       "    </tr>\n",
       "    <tr>\n",
       "      <th>1</th>\n",
       "      <td>20</td>\n",
       "      <td>45</td>\n",
       "      <td>5</td>\n",
       "      <td>0</td>\n",
       "    </tr>\n",
       "    <tr>\n",
       "      <th>2</th>\n",
       "      <td>30</td>\n",
       "      <td>64</td>\n",
       "      <td>5</td>\n",
       "      <td>0</td>\n",
       "    </tr>\n",
       "    <tr>\n",
       "      <th>3</th>\n",
       "      <td>40</td>\n",
       "      <td>75</td>\n",
       "      <td>5</td>\n",
       "      <td>0</td>\n",
       "    </tr>\n",
       "    <tr>\n",
       "      <th>4</th>\n",
       "      <td>50</td>\n",
       "      <td>70</td>\n",
       "      <td>30</td>\n",
       "      <td>0</td>\n",
       "    </tr>\n",
       "    <tr>\n",
       "      <th>5</th>\n",
       "      <td>60</td>\n",
       "      <td>115</td>\n",
       "      <td>5</td>\n",
       "      <td>0</td>\n",
       "    </tr>\n",
       "    <tr>\n",
       "      <th>6</th>\n",
       "      <td>70</td>\n",
       "      <td>142</td>\n",
       "      <td>5</td>\n",
       "      <td>0</td>\n",
       "    </tr>\n",
       "    <tr>\n",
       "      <th>7</th>\n",
       "      <td>80</td>\n",
       "      <td>167</td>\n",
       "      <td>5</td>\n",
       "      <td>0</td>\n",
       "    </tr>\n",
       "    <tr>\n",
       "      <th>8</th>\n",
       "      <td>90</td>\n",
       "      <td>183</td>\n",
       "      <td>5</td>\n",
       "      <td>0</td>\n",
       "    </tr>\n",
       "    <tr>\n",
       "      <th>9</th>\n",
       "      <td>100</td>\n",
       "      <td>160</td>\n",
       "      <td>30</td>\n",
       "      <td>0</td>\n",
       "    </tr>\n",
       "    <tr>\n",
       "      <th>10</th>\n",
       "      <td>110</td>\n",
       "      <td>221</td>\n",
       "      <td>5</td>\n",
       "      <td>0</td>\n",
       "    </tr>\n",
       "  </tbody>\n",
       "</table>\n",
       "</div>"
      ],
      "text/plain": [
       "    Frecuencia (Hz)  Voltaje (mV)  Error Voltaje (mV)  Error Frecuencia (Hz)\n",
       "0                10            16                   5                      0\n",
       "1                20            45                   5                      0\n",
       "2                30            64                   5                      0\n",
       "3                40            75                   5                      0\n",
       "4                50            70                  30                      0\n",
       "5                60           115                   5                      0\n",
       "6                70           142                   5                      0\n",
       "7                80           167                   5                      0\n",
       "8                90           183                   5                      0\n",
       "9               100           160                  30                      0\n",
       "10              110           221                   5                      0"
      ]
     },
     "execution_count": 1,
     "metadata": {},
     "output_type": "execute_result"
    }
   ],
   "source": [
    "import numpy as np\n",
    "import pandas as pd\n",
    "import matplotlib.pyplot as plt\n",
    "from scipy.optimize import curve_fit\n",
    "from sklearn import linear_model\n",
    "from sklearn.metrics import mean_squared_error, r2_score\n",
    "\n",
    "data = \"data.xlsx\"\n",
    "data = pd.read_excel(data)\n",
    "data"
   ]
  },
  {
   "cell_type": "code",
   "execution_count": 2,
   "id": "8d862e09",
   "metadata": {},
   "outputs": [],
   "source": [
    "V = data['Voltaje (mV)']\n",
    "F = data['Frecuencia (Hz)']\n",
    "Verr = data['Error Voltaje (mV)']\n",
    "Ferr = data['Error Frecuencia (Hz)']\n"
   ]
  },
  {
   "cell_type": "code",
   "execution_count": 3,
   "id": "35cbeb07",
   "metadata": {},
   "outputs": [
    {
     "data": {
      "text/plain": [
       "0      10\n",
       "1      20\n",
       "2      30\n",
       "3      40\n",
       "4      50\n",
       "5      60\n",
       "6      70\n",
       "7      80\n",
       "8      90\n",
       "9     100\n",
       "10    110\n",
       "Name: Frecuencia (Hz), dtype: int64"
      ]
     },
     "execution_count": 3,
     "metadata": {},
     "output_type": "execute_result"
    }
   ],
   "source": [
    "X = F\n",
    "Xerr = Ferr\n",
    "\n",
    "Y = V\n",
    "Yerr = Verr\n",
    "\n",
    "X"
   ]
  },
  {
   "cell_type": "code",
   "execution_count": 4,
   "id": "4beae7b1",
   "metadata": {},
   "outputs": [
    {
     "data": {
      "text/plain": [
       "11"
      ]
     },
     "execution_count": 4,
     "metadata": {},
     "output_type": "execute_result"
    }
   ],
   "source": [
    "N = len(X)\n",
    "\n",
    "N"
   ]
  },
  {
   "cell_type": "code",
   "execution_count": 5,
   "id": "d4a17df5",
   "metadata": {},
   "outputs": [],
   "source": [
    "sum_x = (X).sum()\n",
    "sum_y = (Y).sum()\n",
    "sum_xx = (X**2).sum()\n",
    "sum_xy = (X*Y).sum()"
   ]
  },
  {
   "cell_type": "code",
   "execution_count": 6,
   "id": "d1c907fe",
   "metadata": {},
   "outputs": [
    {
     "data": {
      "image/png": "[encoded data removed]",
      "text/plain": [
       "<Figure size 640x480 with 1 Axes>"
      ]
     },
     "metadata": {},
     "output_type": "display_data"
    }
   ],
   "source": [
    "plt.scatter(X,Y)\n",
    "plt.xlabel('Frecuencia (Hz)')\n",
    "plt.ylabel('Voltaje (mV)')\n",
    "plt.grid()"
   ]
  },
  {
   "cell_type": "code",
   "execution_count": 7,
   "id": "7cccd2ef",
   "metadata": {},
   "outputs": [],
   "source": [
    "Delta = N*sum_xx - sum_x**2\n",
    "m = (N*sum_xy - sum_x*sum_y) / (Delta)\n",
    "b = (sum_xx*sum_y - sum_x*sum_xy) / (Delta)\n",
    "\n",
    "alpha_CU = np.sqrt( (1/(N-2)) * np.sum((Y - m*X - b)**2) )\n",
    "\n",
    "m_std_err = alpha_CU*np.sqrt(N/Delta)\n",
    "b_std_err = alpha_CU*np.sqrt(sum_xx/Delta)\n",
    "\n",
    "model = m*X + b"
   ]
  },
  {
   "cell_type": "code",
   "execution_count": 8,
   "id": "319e3d77",
   "metadata": {},
   "outputs": [
    {
     "data": {
      "text/plain": [
       "0      19.000000\n",
       "1      38.072727\n",
       "2      57.145455\n",
       "3      76.218182\n",
       "4      95.290909\n",
       "5     114.363636\n",
       "6     133.436364\n",
       "7     152.509091\n",
       "8     171.581818\n",
       "9     190.654545\n",
       "10    209.727273\n",
       "Name: Frecuencia (Hz), dtype: float64"
      ]
     },
     "execution_count": 8,
     "metadata": {},
     "output_type": "execute_result"
    }
   ],
   "source": [
    "model"
   ]
  },
  {
   "cell_type": "code",
   "execution_count": 9,
   "id": "8d77441b",
   "metadata": {},
   "outputs": [
    {
     "data": {
      "text/plain": [
       "1.9072727272727272"
      ]
     },
     "execution_count": 9,
     "metadata": {},
     "output_type": "execute_result"
    }
   ],
   "source": [
    "m"
   ]
  },
  {
   "cell_type": "code",
   "execution_count": 10,
   "id": "c8e6668b",
   "metadata": {},
   "outputs": [
    {
     "data": {
      "text/plain": [
       "-0.07272727272727272"
      ]
     },
     "execution_count": 10,
     "metadata": {},
     "output_type": "execute_result"
    }
   ],
   "source": [
    "b"
   ]
  },
  {
   "cell_type": "code",
   "execution_count": 11,
   "id": "d2b76ccd",
   "metadata": {},
   "outputs": [
    {
     "data": {
      "text/plain": [
       "0.14994826166178207"
      ]
     },
     "execution_count": 11,
     "metadata": {},
     "output_type": "execute_result"
    }
   ],
   "source": [
    "m_std_err"
   ]
  },
  {
   "cell_type": "code",
   "execution_count": 12,
   "id": "afdd79d9",
   "metadata": {},
   "outputs": [
    {
     "data": {
      "text/plain": [
       "10.169985909862177"
      ]
     },
     "execution_count": 12,
     "metadata": {},
     "output_type": "execute_result"
    }
   ],
   "source": [
    "b_std_err"
   ]
  },
  {
   "cell_type": "code",
   "execution_count": 13,
   "id": "1713840a",
   "metadata": {},
   "outputs": [
    {
     "data": {
      "text/plain": [
       "15.726706359861016"
      ]
     },
     "execution_count": 13,
     "metadata": {},
     "output_type": "execute_result"
    }
   ],
   "source": [
    "alpha_CU"
   ]
  },
  {
   "cell_type": "code",
   "execution_count": 17,
   "id": "f2477159",
   "metadata": {
    "scrolled": true
   },
   "outputs": [
    {
     "data": {
      "image/png": "[encoded data removed]",
      "text/plain": [
       "<Figure size 640x480 with 1 Axes>"
      ]
     },
     "metadata": {},
     "output_type": "display_data"
    }
   ],
   "source": [
    "fig1, (ax1) = plt.subplots(1, 1)\n",
    "\n",
    "ax1.plot(X,model, color='red', linewidth=2, linestyle='--', label=r'$V$'f' = ({m:.1f}± {m_std_err:.1f})' r'f' f' + ({b:.1f}± {b_std_err:.0f})')\n",
    "ax1.errorbar(X, Y, Yerr, Xerr, fmt='o')\n",
    "\n",
    "ax1.set_xlabel('Frecuencia (Hz)')\n",
    "ax1.set_ylabel('Voltaje (mV)')\n",
    "ax1.legend(loc='upper left')\n",
    "ax1.set_title('Voltaje en función de Frecuencia')\n",
    "ax1.grid()\n",
    "\n",
    "plt.savefig('plot_61.png', format='png')"
   ]
  },
  {
   "cell_type": "markdown",
   "id": "efa06fed",
   "metadata": {},
   "source": [
    "Note que los resultados concuerdan con la gráfica 6.1(d) mostrada en el libro guía"
   ]
  },
  {
   "cell_type": "code",
   "execution_count": 15,
   "id": "07825ebe",
   "metadata": {},
   "outputs": [
    {
     "data": {
      "image/png": "[encoded data removed]",
      "text/plain": [
       "<Figure size 640x480 with 1 Axes>"
      ]
     },
     "metadata": {},
     "output_type": "display_data"
    }
   ],
   "source": [
    "res = (Y - model)/Yerr\n",
    "\n",
    "fig2, (ax2) = plt.subplots(1, 1)\n",
    "\n",
    "ax2.scatter(X, res)\n",
    "ax2.axhline(0, color='black', linewidth=1, linestyle='--')\n",
    "\n",
    "ax2.set_xlabel('Frecuencia (Hz)')\n",
    "ax2.set_ylabel('Residuales')\n",
    "ax2.set_title('Resiuales Normalizados')\n",
    "ax2.grid()\n",
    "\n",
    "plt.savefig('residuales_61.png', format='png')"
   ]
  },
  {
   "cell_type": "code",
   "execution_count": 16,
   "id": "b962d6b1",
   "metadata": {},
   "outputs": [
    {
     "data": {
      "text/plain": [
       "0    -0.600000\n",
       "1     1.385455\n",
       "2     1.370909\n",
       "3    -0.243636\n",
       "4    -0.843030\n",
       "5     0.127273\n",
       "6     1.712727\n",
       "7     2.898182\n",
       "8     2.283636\n",
       "9    -1.021818\n",
       "10    2.254545\n",
       "dtype: float64"
      ]
     },
     "execution_count": 16,
     "metadata": {},
     "output_type": "execute_result"
    }
   ],
   "source": [
    "res"
   ]
  }
 ],
 "metadata": {
  "kernelspec": {
   "display_name": "Python 3 (ipykernel)",
   "language": "python",
   "name": "python3"
  },
  "language_info": {
   "codemirror_mode": {
    "name": "ipython",
    "version": 3
   },
   "file_extension": ".py",
   "mimetype": "text/x-python",
   "name": "python",
   "nbconvert_exporter": "python",
   "pygments_lexer": "ipython3",
   "version": "3.11.5"
  }
 },
 "nbformat": 4,
 "nbformat_minor": 5
}
