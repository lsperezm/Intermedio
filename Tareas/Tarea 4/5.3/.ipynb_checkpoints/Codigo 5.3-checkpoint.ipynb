{
 "cells": [
  {
   "cell_type": "markdown",
   "id": "30baba9f",
   "metadata": {},
   "source": [
    "## Caracterización"
   ]
  },
  {
   "cell_type": "code",
   "execution_count": 1,
   "id": "7477c1a3",
   "metadata": {},
   "outputs": [
    {
     "data": {
      "text/html": [
       "<div>\n",
       "<style scoped>\n",
       "    .dataframe tbody tr th:only-of-type {\n",
       "        vertical-align: middle;\n",
       "    }\n",
       "\n",
       "    .dataframe tbody tr th {\n",
       "        vertical-align: top;\n",
       "    }\n",
       "\n",
       "    .dataframe thead th {\n",
       "        text-align: right;\n",
       "    }\n",
       "</style>\n",
       "<table border=\"1\" class=\"dataframe\">\n",
       "  <thead>\n",
       "    <tr style=\"text-align: right;\">\n",
       "      <th></th>\n",
       "      <th>Corriente (uA)</th>\n",
       "      <th>Voltaje (mV)</th>\n",
       "      <th>Error Voltaje (mV)</th>\n",
       "      <th>Error Corriente (uA)</th>\n",
       "    </tr>\n",
       "  </thead>\n",
       "  <tbody>\n",
       "    <tr>\n",
       "      <th>0</th>\n",
       "      <td>10</td>\n",
       "      <td>0.98</td>\n",
       "      <td>0.01</td>\n",
       "      <td>0</td>\n",
       "    </tr>\n",
       "    <tr>\n",
       "      <th>1</th>\n",
       "      <td>20</td>\n",
       "      <td>1.98</td>\n",
       "      <td>0.01</td>\n",
       "      <td>0</td>\n",
       "    </tr>\n",
       "    <tr>\n",
       "      <th>2</th>\n",
       "      <td>30</td>\n",
       "      <td>2.98</td>\n",
       "      <td>0.01</td>\n",
       "      <td>0</td>\n",
       "    </tr>\n",
       "    <tr>\n",
       "      <th>3</th>\n",
       "      <td>40</td>\n",
       "      <td>3.97</td>\n",
       "      <td>0.01</td>\n",
       "      <td>0</td>\n",
       "    </tr>\n",
       "    <tr>\n",
       "      <th>4</th>\n",
       "      <td>50</td>\n",
       "      <td>4.95</td>\n",
       "      <td>0.01</td>\n",
       "      <td>0</td>\n",
       "    </tr>\n",
       "    <tr>\n",
       "      <th>5</th>\n",
       "      <td>60</td>\n",
       "      <td>5.95</td>\n",
       "      <td>0.01</td>\n",
       "      <td>0</td>\n",
       "    </tr>\n",
       "    <tr>\n",
       "      <th>6</th>\n",
       "      <td>70</td>\n",
       "      <td>6.93</td>\n",
       "      <td>0.01</td>\n",
       "      <td>0</td>\n",
       "    </tr>\n",
       "    <tr>\n",
       "      <th>7</th>\n",
       "      <td>80</td>\n",
       "      <td>7.93</td>\n",
       "      <td>0.01</td>\n",
       "      <td>0</td>\n",
       "    </tr>\n",
       "    <tr>\n",
       "      <th>8</th>\n",
       "      <td>90</td>\n",
       "      <td>8.91</td>\n",
       "      <td>0.01</td>\n",
       "      <td>0</td>\n",
       "    </tr>\n",
       "  </tbody>\n",
       "</table>\n",
       "</div>"
      ],
      "text/plain": [
       "   Corriente (uA)  Voltaje (mV)  Error Voltaje (mV)  Error Corriente (uA)\n",
       "0              10          0.98                0.01                     0\n",
       "1              20          1.98                0.01                     0\n",
       "2              30          2.98                0.01                     0\n",
       "3              40          3.97                0.01                     0\n",
       "4              50          4.95                0.01                     0\n",
       "5              60          5.95                0.01                     0\n",
       "6              70          6.93                0.01                     0\n",
       "7              80          7.93                0.01                     0\n",
       "8              90          8.91                0.01                     0"
      ]
     },
     "execution_count": 1,
     "metadata": {},
     "output_type": "execute_result"
    }
   ],
   "source": [
    "import numpy as np\n",
    "import pandas as pd\n",
    "import matplotlib.pyplot as plt\n",
    "from scipy.optimize import curve_fit\n",
    "from sklearn import linear_model\n",
    "from sklearn.metrics import mean_squared_error, r2_score\n",
    "\n",
    "data = \"data.xlsx\"\n",
    "data = pd.read_excel(data)\n",
    "data"
   ]
  },
  {
   "cell_type": "code",
   "execution_count": 2,
   "id": "8d862e09",
   "metadata": {},
   "outputs": [],
   "source": [
    "V = data['Voltaje (mV)']\n",
    "C = data['Corriente (uA)']\n",
    "Verr = data['Error Voltaje (mV)']\n",
    "Cerr = data['Error Corriente (uA)']\n"
   ]
  },
  {
   "cell_type": "code",
   "execution_count": 3,
   "id": "35cbeb07",
   "metadata": {},
   "outputs": [
    {
     "data": {
      "text/plain": [
       "0    10\n",
       "1    20\n",
       "2    30\n",
       "3    40\n",
       "4    50\n",
       "5    60\n",
       "6    70\n",
       "7    80\n",
       "8    90\n",
       "Name: Corriente (uA), dtype: int64"
      ]
     },
     "execution_count": 3,
     "metadata": {},
     "output_type": "execute_result"
    }
   ],
   "source": [
    "X = C\n",
    "Xerr = Cerr\n",
    "\n",
    "Y = V\n",
    "Yerr = Verr\n",
    "\n",
    "X"
   ]
  },
  {
   "cell_type": "code",
   "execution_count": 4,
   "id": "4beae7b1",
   "metadata": {},
   "outputs": [
    {
     "data": {
      "text/plain": [
       "9"
      ]
     },
     "execution_count": 4,
     "metadata": {},
     "output_type": "execute_result"
    }
   ],
   "source": [
    "N = len(X)\n",
    "\n",
    "N"
   ]
  },
  {
   "cell_type": "code",
   "execution_count": 5,
   "id": "d4a17df5",
   "metadata": {},
   "outputs": [],
   "source": [
    "sum_x = (X).sum()\n",
    "sum_y = (Y).sum()\n",
    "sum_xx = (X**2).sum()\n",
    "sum_xy = (X*Y).sum()"
   ]
  },
  {
   "cell_type": "code",
   "execution_count": 6,
   "id": "d1c907fe",
   "metadata": {},
   "outputs": [
    {
     "data": {
      "image/png": "[encoded data removed]",
      "text/plain": [
       "<Figure size 640x480 with 1 Axes>"
      ]
     },
     "metadata": {},
     "output_type": "display_data"
    }
   ],
   "source": [
    "plt.scatter(X,Y)\n",
    "plt.xlabel(r'$Corriente (\\mu A)$')\n",
    "plt.ylabel('Voltaje (mV)')\n",
    "plt.grid()"
   ]
  },
  {
   "cell_type": "code",
   "execution_count": 7,
   "id": "7cccd2ef",
   "metadata": {},
   "outputs": [],
   "source": [
    "Delta = N*sum_xx - sum_x**2\n",
    "m = (N*sum_xy - sum_x*sum_y) / (Delta)\n",
    "b = (sum_xx*sum_y - sum_x*sum_xy) / (Delta)\n",
    "\n",
    "alpha_CU = np.sqrt( (1/(N-2)) * np.sum((Y - m*X - b)**2) )\n",
    "\n",
    "m_std_err = alpha_CU*np.sqrt(N/Delta)\n",
    "b_std_err = alpha_CU*np.sqrt(sum_xx/Delta)\n",
    "\n",
    "model = m*X + b"
   ]
  },
  {
   "cell_type": "code",
   "execution_count": 8,
   "id": "319e3d77",
   "metadata": {},
   "outputs": [
    {
     "data": {
      "text/plain": [
       "0    0.990000\n",
       "1    1.980833\n",
       "2    2.971667\n",
       "3    3.962500\n",
       "4    4.953333\n",
       "5    5.944167\n",
       "6    6.935000\n",
       "7    7.925833\n",
       "8    8.916667\n",
       "Name: Corriente (uA), dtype: float64"
      ]
     },
     "execution_count": 8,
     "metadata": {},
     "output_type": "execute_result"
    }
   ],
   "source": [
    "model"
   ]
  },
  {
   "cell_type": "code",
   "execution_count": 9,
   "id": "8d77441b",
   "metadata": {},
   "outputs": [
    {
     "data": {
      "text/plain": [
       "0.09908333333333333"
      ]
     },
     "execution_count": 9,
     "metadata": {},
     "output_type": "execute_result"
    }
   ],
   "source": [
    "m"
   ]
  },
  {
   "cell_type": "code",
   "execution_count": 10,
   "id": "c8e6668b",
   "metadata": {},
   "outputs": [
    {
     "data": {
      "text/plain": [
       "-0.0008333333333333334"
      ]
     },
     "execution_count": 10,
     "metadata": {},
     "output_type": "execute_result"
    }
   ],
   "source": [
    "b"
   ]
  },
  {
   "cell_type": "code",
   "execution_count": 11,
   "id": "d2b76ccd",
   "metadata": {},
   "outputs": [
    {
     "data": {
      "text/plain": [
       "9.236745114891226e-05"
      ]
     },
     "execution_count": 11,
     "metadata": {},
     "output_type": "execute_result"
    }
   ],
   "source": [
    "m_std_err"
   ]
  },
  {
   "cell_type": "code",
   "execution_count": 12,
   "id": "afdd79d9",
   "metadata": {},
   "outputs": [
    {
     "data": {
      "text/plain": [
       "0.005197806822804966"
      ]
     },
     "execution_count": 12,
     "metadata": {},
     "output_type": "execute_result"
    }
   ],
   "source": [
    "b_std_err"
   ]
  },
  {
   "cell_type": "code",
   "execution_count": 13,
   "id": "1713840a",
   "metadata": {},
   "outputs": [
    {
     "data": {
      "text/plain": [
       "0.007154752000627286"
      ]
     },
     "execution_count": 13,
     "metadata": {},
     "output_type": "execute_result"
    }
   ],
   "source": [
    "alpha_CU"
   ]
  },
  {
   "cell_type": "markdown",
   "id": "f359559e",
   "metadata": {},
   "source": [
    "Note que la magnitud de la incertidumbre común (alpha_CU) es similar a la magnitud del error en Y de los datos (es decir, 0.01 mV). Esto parece indicar que realizar una regresión lineal fue una decisión apropiada."
   ]
  },
  {
   "cell_type": "code",
   "execution_count": 14,
   "id": "f2477159",
   "metadata": {
    "scrolled": true
   },
   "outputs": [
    {
     "data": {
      "image/png": "[encoded data removed]",
      "text/plain": [
       "<Figure size 640x480 with 1 Axes>"
      ]
     },
     "metadata": {},
     "output_type": "display_data"
    }
   ],
   "source": [
    "fig1, (ax1) = plt.subplots(1, 1)\n",
    "\n",
    "ax1.plot(X,model, color='red', linewidth=2, linestyle='--', label=r'$V$'f' = ({m:.5f}± {m_std_err:.5f})' r'I' f' + ({b:.3f}± {b_std_err:.3f})')\n",
    "ax1.errorbar(X, Y, Yerr, Xerr, fmt='o')\n",
    "\n",
    "ax1.set_xlabel(r'$Corriente (\\mu A)$')\n",
    "ax1.set_ylabel('Voltaje (mV)')\n",
    "ax1.legend(loc='upper left')\n",
    "ax1.set_title('Ley de Ohm - Voltaje en función de Corriente')\n",
    "ax1.grid()\n",
    "\n",
    "plt.savefig('plot_53.png', format='png')"
   ]
  },
  {
   "cell_type": "code",
   "execution_count": 15,
   "id": "07825ebe",
   "metadata": {},
   "outputs": [
    {
     "data": {
      "image/png": "[encoded data removed]",
      "text/plain": [
       "<Figure size 640x480 with 1 Axes>"
      ]
     },
     "metadata": {},
     "output_type": "display_data"
    }
   ],
   "source": [
    "res = (Y - model)/Yerr\n",
    "\n",
    "fig2, (ax2) = plt.subplots(1, 1)\n",
    "\n",
    "ax2.scatter(X, res)\n",
    "ax2.axhline(0, color='black', linewidth=1, linestyle='--')\n",
    "\n",
    "ax2.set_xlabel(r'$Corriente (\\mu A)$')\n",
    "ax2.set_ylabel('Residuales')\n",
    "ax2.set_title('Resiuales Normalizados')\n",
    "ax2.grid()\n",
    "\n",
    "plt.savefig('residuales_53.png', format='png')"
   ]
  },
  {
   "cell_type": "markdown",
   "id": "5771afc7",
   "metadata": {},
   "source": [
    "La magnitud de los residuales normalizados no supera 1.00 y, además, estos no siguen un patrón claro. Pir este motivo, podemos concluir que la regresión lineal que realizamos es apropiada."
   ]
  },
  {
   "cell_type": "code",
   "execution_count": 16,
   "id": "b962d6b1",
   "metadata": {},
   "outputs": [
    {
     "data": {
      "text/plain": [
       "0   -1.000000\n",
       "1   -0.083333\n",
       "2    0.833333\n",
       "3    0.750000\n",
       "4   -0.333333\n",
       "5    0.583333\n",
       "6   -0.500000\n",
       "7    0.416667\n",
       "8   -0.666667\n",
       "dtype: float64"
      ]
     },
     "execution_count": 16,
     "metadata": {},
     "output_type": "execute_result"
    }
   ],
   "source": [
    "res"
   ]
  }
 ],
 "metadata": {
  "kernelspec": {
   "display_name": "Python 3 (ipykernel)",
   "language": "python",
   "name": "python3"
  },
  "language_info": {
   "codemirror_mode": {
    "name": "ipython",
    "version": 3
   },
   "file_extension": ".py",
   "mimetype": "text/x-python",
   "name": "python",
   "nbconvert_exporter": "python",
   "pygments_lexer": "ipython3",
   "version": "3.11.5"
  }
 },
 "nbformat": 4,
 "nbformat_minor": 5
}
