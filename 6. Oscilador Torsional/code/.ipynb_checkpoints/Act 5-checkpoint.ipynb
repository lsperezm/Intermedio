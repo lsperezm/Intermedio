{
 "cells": [
  {
   "cell_type": "code",
   "execution_count": 1,
   "id": "50390e43",
   "metadata": {},
   "outputs": [],
   "source": [
    "import numpy as np\n",
    "import pandas as pd\n",
    "import matplotlib.pyplot as plt\n",
    "import scipy\n",
    "from scipy.optimize import curve_fit"
   ]
  },
  {
   "cell_type": "code",
   "execution_count": 2,
   "id": "c5e8b7cd",
   "metadata": {},
   "outputs": [
    {
     "data": {
      "text/html": [
       "<div>\n",
       "<style scoped>\n",
       "    .dataframe tbody tr th:only-of-type {\n",
       "        vertical-align: middle;\n",
       "    }\n",
       "\n",
       "    .dataframe tbody tr th {\n",
       "        vertical-align: top;\n",
       "    }\n",
       "\n",
       "    .dataframe thead th {\n",
       "        text-align: right;\n",
       "    }\n",
       "</style>\n",
       "<table border=\"1\" class=\"dataframe\">\n",
       "  <thead>\n",
       "    <tr style=\"text-align: right;\">\n",
       "      <th></th>\n",
       "      <th>Frecuencia (mHz)</th>\n",
       "      <th>Amplitud (mV)</th>\n",
       "      <th>Periodo (s)</th>\n",
       "      <th>error Amplitud (mV)</th>\n",
       "      <th>error Periodo (s)</th>\n",
       "    </tr>\n",
       "  </thead>\n",
       "  <tbody>\n",
       "    <tr>\n",
       "      <th>0</th>\n",
       "      <td>700</td>\n",
       "      <td>148</td>\n",
       "      <td>1.44</td>\n",
       "      <td>1</td>\n",
       "      <td>0.01</td>\n",
       "    </tr>\n",
       "    <tr>\n",
       "      <th>1</th>\n",
       "      <td>720</td>\n",
       "      <td>156</td>\n",
       "      <td>1.40</td>\n",
       "      <td>1</td>\n",
       "      <td>0.01</td>\n",
       "    </tr>\n",
       "    <tr>\n",
       "      <th>2</th>\n",
       "      <td>740</td>\n",
       "      <td>168</td>\n",
       "      <td>1.36</td>\n",
       "      <td>1</td>\n",
       "      <td>0.01</td>\n",
       "    </tr>\n",
       "    <tr>\n",
       "      <th>3</th>\n",
       "      <td>760</td>\n",
       "      <td>182</td>\n",
       "      <td>1.32</td>\n",
       "      <td>1</td>\n",
       "      <td>0.01</td>\n",
       "    </tr>\n",
       "    <tr>\n",
       "      <th>4</th>\n",
       "      <td>780</td>\n",
       "      <td>196</td>\n",
       "      <td>1.28</td>\n",
       "      <td>1</td>\n",
       "      <td>0.01</td>\n",
       "    </tr>\n",
       "    <tr>\n",
       "      <th>5</th>\n",
       "      <td>800</td>\n",
       "      <td>212</td>\n",
       "      <td>1.24</td>\n",
       "      <td>1</td>\n",
       "      <td>0.01</td>\n",
       "    </tr>\n",
       "    <tr>\n",
       "      <th>6</th>\n",
       "      <td>820</td>\n",
       "      <td>224</td>\n",
       "      <td>1.20</td>\n",
       "      <td>1</td>\n",
       "      <td>0.01</td>\n",
       "    </tr>\n",
       "    <tr>\n",
       "      <th>7</th>\n",
       "      <td>840</td>\n",
       "      <td>230</td>\n",
       "      <td>1.16</td>\n",
       "      <td>1</td>\n",
       "      <td>0.01</td>\n",
       "    </tr>\n",
       "    <tr>\n",
       "      <th>8</th>\n",
       "      <td>860</td>\n",
       "      <td>232</td>\n",
       "      <td>1.16</td>\n",
       "      <td>1</td>\n",
       "      <td>0.01</td>\n",
       "    </tr>\n",
       "    <tr>\n",
       "      <th>9</th>\n",
       "      <td>880</td>\n",
       "      <td>224</td>\n",
       "      <td>1.12</td>\n",
       "      <td>1</td>\n",
       "      <td>0.01</td>\n",
       "    </tr>\n",
       "    <tr>\n",
       "      <th>10</th>\n",
       "      <td>900</td>\n",
       "      <td>210</td>\n",
       "      <td>1.12</td>\n",
       "      <td>1</td>\n",
       "      <td>0.01</td>\n",
       "    </tr>\n",
       "    <tr>\n",
       "      <th>11</th>\n",
       "      <td>920</td>\n",
       "      <td>192</td>\n",
       "      <td>1.12</td>\n",
       "      <td>1</td>\n",
       "      <td>0.01</td>\n",
       "    </tr>\n",
       "    <tr>\n",
       "      <th>12</th>\n",
       "      <td>940</td>\n",
       "      <td>178</td>\n",
       "      <td>1.04</td>\n",
       "      <td>1</td>\n",
       "      <td>0.01</td>\n",
       "    </tr>\n",
       "    <tr>\n",
       "      <th>13</th>\n",
       "      <td>960</td>\n",
       "      <td>156</td>\n",
       "      <td>1.08</td>\n",
       "      <td>1</td>\n",
       "      <td>0.01</td>\n",
       "    </tr>\n",
       "    <tr>\n",
       "      <th>14</th>\n",
       "      <td>980</td>\n",
       "      <td>142</td>\n",
       "      <td>1.00</td>\n",
       "      <td>1</td>\n",
       "      <td>0.01</td>\n",
       "    </tr>\n",
       "    <tr>\n",
       "      <th>15</th>\n",
       "      <td>1000</td>\n",
       "      <td>128</td>\n",
       "      <td>1.04</td>\n",
       "      <td>1</td>\n",
       "      <td>0.01</td>\n",
       "    </tr>\n",
       "  </tbody>\n",
       "</table>\n",
       "</div>"
      ],
      "text/plain": [
       "    Frecuencia (mHz)  Amplitud (mV)  Periodo (s)  error Amplitud (mV)  \\\n",
       "0                700            148         1.44                    1   \n",
       "1                720            156         1.40                    1   \n",
       "2                740            168         1.36                    1   \n",
       "3                760            182         1.32                    1   \n",
       "4                780            196         1.28                    1   \n",
       "5                800            212         1.24                    1   \n",
       "6                820            224         1.20                    1   \n",
       "7                840            230         1.16                    1   \n",
       "8                860            232         1.16                    1   \n",
       "9                880            224         1.12                    1   \n",
       "10               900            210         1.12                    1   \n",
       "11               920            192         1.12                    1   \n",
       "12               940            178         1.04                    1   \n",
       "13               960            156         1.08                    1   \n",
       "14               980            142         1.00                    1   \n",
       "15              1000            128         1.04                    1   \n",
       "\n",
       "    error Periodo (s)  \n",
       "0                0.01  \n",
       "1                0.01  \n",
       "2                0.01  \n",
       "3                0.01  \n",
       "4                0.01  \n",
       "5                0.01  \n",
       "6                0.01  \n",
       "7                0.01  \n",
       "8                0.01  \n",
       "9                0.01  \n",
       "10               0.01  \n",
       "11               0.01  \n",
       "12               0.01  \n",
       "13               0.01  \n",
       "14               0.01  \n",
       "15               0.01  "
      ]
     },
     "execution_count": 2,
     "metadata": {},
     "output_type": "execute_result"
    }
   ],
   "source": [
    "data = \"../data/datos_act5.xlsx\"\n",
    "data = pd.read_excel(data)\n",
    "data"
   ]
  },
  {
   "cell_type": "code",
   "execution_count": 3,
   "id": "6d60c9ab",
   "metadata": {},
   "outputs": [
    {
     "data": {
      "text/plain": [
       "0     148\n",
       "1     156\n",
       "2     168\n",
       "3     182\n",
       "4     196\n",
       "5     212\n",
       "6     224\n",
       "7     230\n",
       "8     232\n",
       "9     224\n",
       "10    210\n",
       "11    192\n",
       "12    178\n",
       "13    156\n",
       "14    142\n",
       "15    128\n",
       "Name: Amplitud (mV), dtype: int64"
      ]
     },
     "execution_count": 3,
     "metadata": {},
     "output_type": "execute_result"
    }
   ],
   "source": [
    "X = data['Frecuencia (mHz)']\n",
    "#Xerr = data['error Corriente A)']\n",
    "\n",
    "Y = data['Amplitud (mV)']\n",
    "Yerr = data['error Amplitud (mV)']\n",
    "\n",
    "#w = 1/(Yerr**2)\n",
    "\n",
    "Y"
   ]
  },
  {
   "cell_type": "code",
   "execution_count": 4,
   "id": "da370a99",
   "metadata": {},
   "outputs": [
    {
     "data": {
      "text/plain": [
       "<matplotlib.collections.PathCollection at 0x1fec31e8a10>"
      ]
     },
     "execution_count": 4,
     "metadata": {},
     "output_type": "execute_result"
    },
    {
     "data": {
      "image/png": "[encoded data removed]",
      "text/plain": [
       "<Figure size 640x480 with 1 Axes>"
      ]
     },
     "metadata": {},
     "output_type": "display_data"
    }
   ],
   "source": [
    "#Pasar a frecuencia angular\n",
    "X = X/1000\n",
    "X = 2*np.pi*X\n",
    "\n",
    "#Pasar a Voltios\n",
    "Y = Y/1000\n",
    "Yerr = Yerr/1000\n",
    "\n",
    "plt.scatter(X, Y, s=7)"
   ]
  },
  {
   "cell_type": "code",
   "execution_count": 5,
   "id": "33fa3ab7",
   "metadata": {},
   "outputs": [],
   "source": [
    "def fit(X, A0, gamma, w0):\n",
    "    return A0/np.sqrt( (w0**2 - X**2)**2 + (gamma*X)**2 )\n",
    "\n",
    "popt, pcov = curve_fit( fit, X, Y, sigma=Yerr, maxfev = 100000 )"
   ]
  },
  {
   "cell_type": "code",
   "execution_count": 6,
   "id": "2602d433",
   "metadata": {},
   "outputs": [
    {
     "name": "stdout",
     "output_type": "stream",
     "text": [
      "1.6977042186060967\n",
      "-1.3594390827519183\n",
      "5.426782006463191\n",
      "0.012731435307101545\n",
      "0.013095714406346865\n",
      "0.0038462948952284618\n"
     ]
    }
   ],
   "source": [
    "A0 = popt[0]\n",
    "gamma = popt[1]\n",
    "w0 = popt[2]\n",
    "\n",
    "A0err = np.sqrt(pcov[0,0])\n",
    "gammaerr = np.sqrt(pcov[1,1])\n",
    "w0err = np.sqrt(pcov[2,2])\n",
    "\n",
    "print(A0)\n",
    "print(gamma)\n",
    "print(w0)\n",
    "\n",
    "print(A0err)\n",
    "print(gammaerr)\n",
    "print(w0err)"
   ]
  },
  {
   "cell_type": "code",
   "execution_count": 7,
   "id": "0c8759ef",
   "metadata": {},
   "outputs": [
    {
     "data": {
      "image/png": "[encoded data removed]",
      "text/plain": [
       "<Figure size 640x480 with 1 Axes>"
      ]
     },
     "metadata": {},
     "output_type": "display_data"
    }
   ],
   "source": [
    "x = np.linspace(4, 6.5, 25001)\n",
    "y = fit(x, A0, gamma, w0)\n",
    "\n",
    "plt.plot(x, y, color=\"red\", linestyle=\"--\", label= r\"$A_0 = 1.70\\pm 0.01$\" + r\"$\\gamma = 1.36\\pm 0.01$\" + \"; \" + r\"$\\omega_0 = 5.427\\pm 0.004$\")\n",
    "plt.scatter(X, Y, s=10)\n",
    "\n",
    "plt.xlabel(\"Frecuencia angular (rad/s)\")\n",
    "plt.ylabel(\"Amplitud (V)\")\n",
    "plt.title(\"Frecuencia de Resonancia\")\n",
    "\n",
    "plt.legend(loc=\"lower center\")\n",
    "\n",
    "plt.savefig(\"act5_img1\")"
   ]
  },
  {
   "cell_type": "code",
   "execution_count": 8,
   "id": "10de0364",
   "metadata": {},
   "outputs": [
    {
     "name": "stdout",
     "output_type": "stream",
     "text": [
      "3.9919273142256095\n"
     ]
    }
   ],
   "source": [
    "Q = np.abs(w0/gamma)\n",
    "\n",
    "\n",
    "print (Q)"
   ]
  },
  {
   "cell_type": "code",
   "execution_count": 9,
   "id": "28a23fa5",
   "metadata": {},
   "outputs": [
    {
     "data": {
      "image/png": "[encoded data removed]",
      "text/plain": [
       "<Figure size 640x480 with 1 Axes>"
      ]
     },
     "metadata": {},
     "output_type": "display_data"
    }
   ],
   "source": [
    "model = fit(X, A0, gamma, w0)\n",
    "res = (Y - model)/Yerr\n",
    "\n",
    "fig2, (ax2) = plt.subplots(1, 1)\n",
    "\n",
    "ax2.scatter(X, res, s=10)\n",
    "ax2.axhline(0, color='green', linewidth=1, linestyle='--')\n",
    "\n",
    "ax2.set_ylabel('Residuales Normalizados')\n",
    "ax2.set_xlabel('Frecuencia angular (rad/s)')\n",
    "ax2.set_title('Residuales para Frecuencia de Resonancia')\n",
    "ax2.grid()\n",
    "\n",
    "plt.savefig('act5_img1_res.png', format='png')"
   ]
  },
  {
   "cell_type": "code",
   "execution_count": null,
   "id": "ef389158",
   "metadata": {},
   "outputs": [],
   "source": []
  }
 ],
 "metadata": {
  "kernelspec": {
   "display_name": "Python 3 (ipykernel)",
   "language": "python",
   "name": "python3"
  },
  "language_info": {
   "codemirror_mode": {
    "name": "ipython",
    "version": 3
   },
   "file_extension": ".py",
   "mimetype": "text/x-python",
   "name": "python",
   "nbconvert_exporter": "python",
   "pygments_lexer": "ipython3",
   "version": "3.11.5"
  }
 },
 "nbformat": 4,
 "nbformat_minor": 5
}
