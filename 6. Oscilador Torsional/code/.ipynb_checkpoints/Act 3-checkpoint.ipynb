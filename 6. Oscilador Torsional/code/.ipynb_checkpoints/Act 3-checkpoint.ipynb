{
<<<<<<< Updated upstream
 "cells": [],
 "metadata": {},
=======
 "cells": [
  {
   "cell_type": "code",
   "execution_count": 1,
   "id": "67e4b9d0",
   "metadata": {},
   "outputs": [],
   "source": [
    "import numpy as np\n",
    "import pandas as pd\n",
    "import matplotlib.pyplot as plt"
   ]
  },
  {
   "cell_type": "code",
   "execution_count": 2,
   "id": "c7e5030c",
   "metadata": {},
   "outputs": [
    {
     "data": {
      "text/html": [
       "<div>\n",
       "<style scoped>\n",
       "    .dataframe tbody tr th:only-of-type {\n",
       "        vertical-align: middle;\n",
       "    }\n",
       "\n",
       "    .dataframe tbody tr th {\n",
       "        vertical-align: top;\n",
       "    }\n",
       "\n",
       "    .dataframe thead th {\n",
       "        text-align: right;\n",
       "    }\n",
       "</style>\n",
       "<table border=\"1\" class=\"dataframe\">\n",
       "  <thead>\n",
       "    <tr style=\"text-align: right;\">\n",
       "      <th></th>\n",
       "      <th>Corriente (A)</th>\n",
       "      <th>ΔΘ (rad)</th>\n",
       "      <th>error Corriente A)</th>\n",
       "      <th>error ΔΘ (rad)</th>\n",
       "    </tr>\n",
       "  </thead>\n",
       "  <tbody>\n",
       "    <tr>\n",
       "      <th>0</th>\n",
       "      <td>-2.0</td>\n",
       "      <td>-0.89</td>\n",
       "      <td>0.01</td>\n",
       "      <td>0.005</td>\n",
       "    </tr>\n",
       "    <tr>\n",
       "      <th>1</th>\n",
       "      <td>-1.8</td>\n",
       "      <td>-0.84</td>\n",
       "      <td>0.01</td>\n",
       "      <td>0.005</td>\n",
       "    </tr>\n",
       "    <tr>\n",
       "      <th>2</th>\n",
       "      <td>-1.6</td>\n",
       "      <td>-0.79</td>\n",
       "      <td>0.01</td>\n",
       "      <td>0.005</td>\n",
       "    </tr>\n",
       "    <tr>\n",
       "      <th>3</th>\n",
       "      <td>-1.4</td>\n",
       "      <td>-0.73</td>\n",
       "      <td>0.01</td>\n",
       "      <td>0.005</td>\n",
       "    </tr>\n",
       "    <tr>\n",
       "      <th>4</th>\n",
       "      <td>-1.2</td>\n",
       "      <td>-0.65</td>\n",
       "      <td>0.01</td>\n",
       "      <td>0.005</td>\n",
       "    </tr>\n",
       "    <tr>\n",
       "      <th>5</th>\n",
       "      <td>-1.0</td>\n",
       "      <td>-0.57</td>\n",
       "      <td>0.01</td>\n",
       "      <td>0.005</td>\n",
       "    </tr>\n",
       "    <tr>\n",
       "      <th>6</th>\n",
       "      <td>-0.8</td>\n",
       "      <td>-0.49</td>\n",
       "      <td>0.01</td>\n",
       "      <td>0.005</td>\n",
       "    </tr>\n",
       "    <tr>\n",
       "      <th>7</th>\n",
       "      <td>-0.6</td>\n",
       "      <td>-0.37</td>\n",
       "      <td>0.01</td>\n",
       "      <td>0.005</td>\n",
       "    </tr>\n",
       "    <tr>\n",
       "      <th>8</th>\n",
       "      <td>-0.4</td>\n",
       "      <td>-0.27</td>\n",
       "      <td>0.01</td>\n",
       "      <td>0.005</td>\n",
       "    </tr>\n",
       "    <tr>\n",
       "      <th>9</th>\n",
       "      <td>-0.2</td>\n",
       "      <td>-0.13</td>\n",
       "      <td>0.01</td>\n",
       "      <td>0.005</td>\n",
       "    </tr>\n",
       "    <tr>\n",
       "      <th>10</th>\n",
       "      <td>0.0</td>\n",
       "      <td>0.00</td>\n",
       "      <td>0.01</td>\n",
       "      <td>0.005</td>\n",
       "    </tr>\n",
       "    <tr>\n",
       "      <th>11</th>\n",
       "      <td>0.2</td>\n",
       "      <td>0.13</td>\n",
       "      <td>0.01</td>\n",
       "      <td>0.005</td>\n",
       "    </tr>\n",
       "    <tr>\n",
       "      <th>12</th>\n",
       "      <td>0.4</td>\n",
       "      <td>0.27</td>\n",
       "      <td>0.01</td>\n",
       "      <td>0.005</td>\n",
       "    </tr>\n",
       "    <tr>\n",
       "      <th>13</th>\n",
       "      <td>0.6</td>\n",
       "      <td>0.38</td>\n",
       "      <td>0.01</td>\n",
       "      <td>0.005</td>\n",
       "    </tr>\n",
       "    <tr>\n",
       "      <th>14</th>\n",
       "      <td>0.8</td>\n",
       "      <td>0.48</td>\n",
       "      <td>0.01</td>\n",
       "      <td>0.005</td>\n",
       "    </tr>\n",
       "    <tr>\n",
       "      <th>15</th>\n",
       "      <td>1.0</td>\n",
       "      <td>0.57</td>\n",
       "      <td>0.01</td>\n",
       "      <td>0.005</td>\n",
       "    </tr>\n",
       "    <tr>\n",
       "      <th>16</th>\n",
       "      <td>1.2</td>\n",
       "      <td>0.65</td>\n",
       "      <td>0.01</td>\n",
       "      <td>0.005</td>\n",
       "    </tr>\n",
       "    <tr>\n",
       "      <th>17</th>\n",
       "      <td>1.4</td>\n",
       "      <td>0.51</td>\n",
       "      <td>0.01</td>\n",
       "      <td>0.005</td>\n",
       "    </tr>\n",
       "    <tr>\n",
       "      <th>18</th>\n",
       "      <td>1.6</td>\n",
       "      <td>0.77</td>\n",
       "      <td>0.01</td>\n",
       "      <td>0.005</td>\n",
       "    </tr>\n",
       "    <tr>\n",
       "      <th>19</th>\n",
       "      <td>1.8</td>\n",
       "      <td>0.83</td>\n",
       "      <td>0.01</td>\n",
       "      <td>0.005</td>\n",
       "    </tr>\n",
       "    <tr>\n",
       "      <th>20</th>\n",
       "      <td>2.0</td>\n",
       "      <td>0.87</td>\n",
       "      <td>0.01</td>\n",
       "      <td>0.005</td>\n",
       "    </tr>\n",
       "  </tbody>\n",
       "</table>\n",
       "</div>"
      ],
      "text/plain": [
       "    Corriente (A)  ΔΘ (rad)  error Corriente A)  error ΔΘ (rad)\n",
       "0            -2.0     -0.89                0.01           0.005\n",
       "1            -1.8     -0.84                0.01           0.005\n",
       "2            -1.6     -0.79                0.01           0.005\n",
       "3            -1.4     -0.73                0.01           0.005\n",
       "4            -1.2     -0.65                0.01           0.005\n",
       "5            -1.0     -0.57                0.01           0.005\n",
       "6            -0.8     -0.49                0.01           0.005\n",
       "7            -0.6     -0.37                0.01           0.005\n",
       "8            -0.4     -0.27                0.01           0.005\n",
       "9            -0.2     -0.13                0.01           0.005\n",
       "10            0.0      0.00                0.01           0.005\n",
       "11            0.2      0.13                0.01           0.005\n",
       "12            0.4      0.27                0.01           0.005\n",
       "13            0.6      0.38                0.01           0.005\n",
       "14            0.8      0.48                0.01           0.005\n",
       "15            1.0      0.57                0.01           0.005\n",
       "16            1.2      0.65                0.01           0.005\n",
       "17            1.4      0.51                0.01           0.005\n",
       "18            1.6      0.77                0.01           0.005\n",
       "19            1.8      0.83                0.01           0.005\n",
       "20            2.0      0.87                0.01           0.005"
      ]
     },
     "execution_count": 2,
     "metadata": {},
     "output_type": "execute_result"
    }
   ],
   "source": [
    "data = \"../data/datos_act3.xlsx\"\n",
    "data = pd.read_excel(data)\n",
    "data"
   ]
  },
  {
   "cell_type": "code",
   "execution_count": 3,
   "id": "a0fa829e",
   "metadata": {},
   "outputs": [
    {
     "data": {
      "text/plain": [
       "0    1.15\n",
       "1    1.25\n",
       "2    1.32\n",
       "3    1.37\n",
       "4    1.44\n",
       "5    1.52\n",
       "6    1.56\n",
       "7    1.60\n",
       "8    1.70\n",
       "Name: Periodo (s), dtype: float64"
      ]
     },
     "execution_count": 3,
     "metadata": {},
     "output_type": "execute_result"
    }
   ],
   "source": [
    "X = data['Corriente (A)']\n",
    "Xerr = data['error Corriente (A)']\n",
    "\n",
    "Y = data['ΔΘ (rad)']\n",
    "Yerr = data['error ΔΘ (rad)']\n",
    "\n",
    "w = 1/(Yerr**2)\n",
    "\n",
    "Y"
   ]
  },
  {
   "cell_type": "code",
   "execution_count": 5,
   "id": "f038b07c",
   "metadata": {},
   "outputs": [],
   "source": [
    "sum_w = w.sum()\n",
    "sum_wx = (w*X).sum()\n",
    "sum_wy = (w*Y).sum()\n",
    "sum_wxx = (w*X**2).sum()\n",
    "sum_wxy = (w*X*Y).sum()"
   ]
  },
  {
   "cell_type": "code",
   "execution_count": 6,
   "id": "f1ab3469",
   "metadata": {},
   "outputs": [],
   "source": [
    "m = (sum_w*sum_wxy - sum_wx*sum_wy) / (sum_w*sum_wxx - sum_wx**2)\n",
    "b = (sum_wxx*sum_wy - sum_wx*sum_wxy) / (sum_w*sum_wxx - sum_wx**2)\n",
    "\n",
    "m_std_err = np.sqrt(sum_w/(sum_w*sum_wxx-sum_wx**2))\n",
    "b_std_err = np.sqrt(sum_wxx/(sum_w*sum_wxx-sum_wx**2))"
   ]
  },
  {
   "cell_type": "code",
   "execution_count": 7,
   "id": "0ec1458f",
   "metadata": {},
   "outputs": [
    {
     "name": "stdout",
     "output_type": "stream",
     "text": [
      "0.18445597279244794\n",
      "1.347200139937264\n",
      "0.0036466228224350996\n",
      "0.015487062890676926\n"
     ]
    }
   ],
   "source": [
    "print(m)\n",
    "print(b)\n",
    "\n",
    "print(m_std_err)\n",
    "print(b_std_err)"
   ]
  },
  {
   "cell_type": "code",
   "execution_count": 8,
   "id": "363d791d",
   "metadata": {},
   "outputs": [
    {
     "data": {
      "image/png": "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",
      "text/plain": [
       "<Figure size 640x480 with 1 Axes>"
      ]
     },
     "metadata": {},
     "output_type": "display_data"
    }
   ],
   "source": [
    "x = np.linspace(0, 8, 8001)\n",
    "y = m*x+b\n",
    "\n",
    "plt.plot(x, y, label = r\"$m = (18.5\\pm 0.5)\\times 10^{-2}$\" + \"; \" + r\"$b = (1.35\\pm 0.02)$\")\n",
    "plt.errorbar(X, Y, Yerr, fmt=\"o\", markersize=5, capsize=2)\n",
    "\n",
    "plt.title(\"Periodo cuadrado en función del Número de Latones\")\n",
    "plt.ylabel(\"Periodo Cuadrado (\" + r\"$s^2$\" + \")\")\n",
    "plt.xlabel(\"Corriente (A)\")\n",
    "plt.legend(loc=\"upper left\")\n",
    "\n",
    "plt.savefig(\"act2_img1\")"
   ]
  },
  {
   "cell_type": "code",
   "execution_count": 9,
   "id": "d729d768",
   "metadata": {},
   "outputs": [
    {
     "data": {
      "image/png": "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",
      "text/plain": [
       "<Figure size 640x480 with 1 Axes>"
      ]
     },
     "metadata": {},
     "output_type": "display_data"
    }
   ],
   "source": [
    "model = m*X+b\n",
    "res = (Y - model)/Yerr\n",
    "\n",
    "fig2, (ax2) = plt.subplots(1, 1)\n",
    "\n",
    "ax2.scatter(X, res)\n",
    "ax2.axhline(0, color='green', linewidth=1, linestyle='--')\n",
    "\n",
    "ax2.set_ylabel('Residuales Normalizados')\n",
    "ax2.set_xlabel('Número de Latones')\n",
    "ax2.set_title('Residuales para Periodo cuadrado en función del Número de Latones')\n",
    "ax2.grid()\n",
    "\n",
    "plt.savefig('act2_img2_res.png', format='png')"
   ]
  },
  {
   "cell_type": "code",
   "execution_count": 10,
   "id": "3aa0f5aa",
   "metadata": {},
   "outputs": [
    {
     "name": "stdout",
     "output_type": "stream",
     "text": [
      "0.035976598116840564\n",
      "0.0007317103812642545\n"
     ]
    }
   ],
   "source": [
    "r1 = 0.04360\n",
    "r2 = 0.06665\n",
    "masa = 0.212\n",
    "\n",
    "k = ( (np.pi**2)*masa*((r1**2) + (r2**2)) )/( 2*m )\n",
    "\n",
    "\n",
    "rerr = 0.00003\n",
    "masaerr = 0.001\n",
    "kerr = np.sqrt( (( (np.pi**2)*masa*(2*r1)*rerr )/( 2*m ))**2 + (( (np.pi**2)*masa*(2*r2)*rerr )/( 2*m ))**2 + (( (np.pi**2)*masaerr*((r1**2) + (r2**2)) )/( 2*m ))**2 + (( (np.pi**2)*masa*((r1**2) + (r2**2))*m_std_err )/( 2*(m**2) ))**2 )\n",
    "\n",
    "print(k)\n",
    "print(kerr)"
   ]
  },
  {
   "cell_type": "code",
   "execution_count": 11,
   "id": "a8710f59",
   "metadata": {},
   "outputs": [
    {
     "name": "stdout",
     "output_type": "stream",
     "text": [
      "0.00196559874405456\n",
      "2.2596012622464643e-05\n"
     ]
    }
   ],
   "source": [
    "k = 0.0576\n",
    "\n",
    "I = (b*k)/(4*(np.pi**2))\n",
    "Ierr = (b_std_err*k)/(4*(np.pi**2))\n",
    "\n",
    "\n",
    "print(I)\n",
    "print(Ierr)"
   ]
  },
  {
   "cell_type": "code",
   "execution_count": null,
   "id": "af961e73",
   "metadata": {},
   "outputs": [],
   "source": []
  }
 ],
 "metadata": {
  "kernelspec": {
   "display_name": "Python 3 (ipykernel)",
   "language": "python",
   "name": "python3"
  },
  "language_info": {
   "codemirror_mode": {
    "name": "ipython",
    "version": 3
   },
   "file_extension": ".py",
   "mimetype": "text/x-python",
   "name": "python",
   "nbconvert_exporter": "python",
   "pygments_lexer": "ipython3",
   "version": "3.11.5"
  }
 },
>>>>>>> Stashed changes
 "nbformat": 4,
 "nbformat_minor": 5
}
