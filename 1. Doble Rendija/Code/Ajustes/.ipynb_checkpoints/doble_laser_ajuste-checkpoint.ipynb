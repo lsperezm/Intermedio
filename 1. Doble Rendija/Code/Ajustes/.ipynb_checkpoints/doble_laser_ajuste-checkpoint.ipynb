{
 "cells": [
  {
   "cell_type": "code",
   "execution_count": 1,
   "metadata": {},
   "outputs": [
    {
     "name": "stdout",
     "output_type": "stream",
     "text": [
      "     x_desf (um)  V_con_offset (mV)  error x_desf (um)  error V (mV)  \\\n",
      "0          -5860               19.3                  5           0.1   \n",
      "1          -5840               19.6                  5           0.1   \n",
      "2          -5820               19.9                  5           0.1   \n",
      "3          -5800               20.4                  5           0.1   \n",
      "4          -5780               21.3                  5           0.1   \n",
      "..           ...                ...                ...           ...   \n",
      "289          -80             1200.5                  5           0.1   \n",
      "290          -60             1212.5                  5           0.1   \n",
      "291          -40             1224.5                  5           0.1   \n",
      "292          -20             1237.5                  5           0.1   \n",
      "293            0             1241.5                  5           0.1   \n",
      "\n",
      "     x_desf (m)  V_con_offset (V)  error x_desf (m)  error V (V)  \n",
      "0      -0.00586            0.0193          0.000005        0.001  \n",
      "1      -0.00584            0.0196          0.000005        0.001  \n",
      "2      -0.00582            0.0199          0.000005        0.001  \n",
      "3      -0.00580            0.0204          0.000005        0.001  \n",
      "4      -0.00578            0.0213          0.000005        0.001  \n",
      "..          ...               ...               ...          ...  \n",
      "289    -0.00008            1.2005          0.000005        0.001  \n",
      "290    -0.00006            1.2125          0.000005        0.001  \n",
      "291    -0.00004            1.2245          0.000005        0.001  \n",
      "292    -0.00002            1.2375          0.000005        0.001  \n",
      "293     0.00000            1.2415          0.000005        0.001  \n",
      "\n",
      "[294 rows x 8 columns]\n"
     ]
    }
   ],
   "source": [
    "import numpy as np\n",
    "import pandas as pd\n",
    "import matplotlib.pyplot as plt\n",
    "from scipy.optimize import curve_fit\n",
    "\n",
    "data = \"data_doble_laser.xlsx\"\n",
    "data = pd.read_excel(data)\n",
    "print(data)"
   ]
  },
  {
   "cell_type": "code",
   "execution_count": 6,
   "metadata": {},
   "outputs": [
    {
     "ename": "RuntimeError",
     "evalue": "Optimal parameters not found: Number of calls to function has reached maxfev = 10000.",
     "output_type": "error",
     "traceback": [
      "\u001b[1;31m---------------------------------------------------------------------------\u001b[0m",
      "\u001b[1;31mRuntimeError\u001b[0m                              Traceback (most recent call last)",
      "Cell \u001b[1;32mIn[6], line 6\u001b[0m\n\u001b[0;32m      3\u001b[0m     \u001b[38;5;28;01mreturn\u001b[39;00m np\u001b[38;5;241m.\u001b[39mabs(A)\u001b[38;5;241m*\u001b[39m( (np\u001b[38;5;241m.\u001b[39mcos( np\u001b[38;5;241m.\u001b[39mabs(D)\u001b[38;5;241m*\u001b[39mX ))\u001b[38;5;241m*\u001b[39m\u001b[38;5;241m*\u001b[39m\u001b[38;5;241m2\u001b[39m )\u001b[38;5;241m*\u001b[39m( ( np\u001b[38;5;241m.\u001b[39msin(np\u001b[38;5;241m.\u001b[39mabs(C)\u001b[38;5;241m*\u001b[39mX ) )\u001b[38;5;241m/\u001b[39m( np\u001b[38;5;241m.\u001b[39mabs(C)\u001b[38;5;241m*\u001b[39mX ) )\u001b[38;5;241m*\u001b[39m\u001b[38;5;241m*\u001b[39m\u001b[38;5;241m2\u001b[39m\n\u001b[0;32m      5\u001b[0m \u001b[38;5;66;03m# Perform the curve fitting considering the uncertainties\u001b[39;00m\n\u001b[1;32m----> 6\u001b[0m popt, pcov \u001b[38;5;241m=\u001b[39m curve_fit( frauhofer_approximated_double_function, data[\u001b[38;5;124m'\u001b[39m\u001b[38;5;124mx_desf (um)\u001b[39m\u001b[38;5;124m'\u001b[39m], data[\u001b[38;5;124m'\u001b[39m\u001b[38;5;124mV_con_offset (mV)\u001b[39m\u001b[38;5;124m'\u001b[39m], p0 \u001b[38;5;241m=\u001b[39m (\u001b[38;5;241m1.2415\u001b[39m, \u001b[38;5;241m468.89\u001b[39m, \u001b[38;5;241m1669.26\u001b[39m), sigma\u001b[38;5;241m=\u001b[39mdata[\u001b[38;5;124m'\u001b[39m\u001b[38;5;124merror V (mV)\u001b[39m\u001b[38;5;124m'\u001b[39m], absolute_sigma\u001b[38;5;241m=\u001b[39m\u001b[38;5;28;01mTrue\u001b[39;00m, maxfev \u001b[38;5;241m=\u001b[39m \u001b[38;5;241m10000\u001b[39m )\n",
      "File \u001b[1;32m~\\anaconda3\\Lib\\site-packages\\scipy\\optimize\\_minpack_py.py:968\u001b[0m, in \u001b[0;36mcurve_fit\u001b[1;34m(f, xdata, ydata, p0, sigma, absolute_sigma, check_finite, bounds, method, jac, full_output, nan_policy, **kwargs)\u001b[0m\n\u001b[0;32m    966\u001b[0m     cost \u001b[38;5;241m=\u001b[39m np\u001b[38;5;241m.\u001b[39msum(infodict[\u001b[38;5;124m'\u001b[39m\u001b[38;5;124mfvec\u001b[39m\u001b[38;5;124m'\u001b[39m] \u001b[38;5;241m*\u001b[39m\u001b[38;5;241m*\u001b[39m \u001b[38;5;241m2\u001b[39m)\n\u001b[0;32m    967\u001b[0m     \u001b[38;5;28;01mif\u001b[39;00m ier \u001b[38;5;129;01mnot\u001b[39;00m \u001b[38;5;129;01min\u001b[39;00m [\u001b[38;5;241m1\u001b[39m, \u001b[38;5;241m2\u001b[39m, \u001b[38;5;241m3\u001b[39m, \u001b[38;5;241m4\u001b[39m]:\n\u001b[1;32m--> 968\u001b[0m         \u001b[38;5;28;01mraise\u001b[39;00m \u001b[38;5;167;01mRuntimeError\u001b[39;00m(\u001b[38;5;124m\"\u001b[39m\u001b[38;5;124mOptimal parameters not found: \u001b[39m\u001b[38;5;124m\"\u001b[39m \u001b[38;5;241m+\u001b[39m errmsg)\n\u001b[0;32m    969\u001b[0m \u001b[38;5;28;01melse\u001b[39;00m:\n\u001b[0;32m    970\u001b[0m     \u001b[38;5;66;03m# Rename maxfev (leastsq) to max_nfev (least_squares), if specified.\u001b[39;00m\n\u001b[0;32m    971\u001b[0m     \u001b[38;5;28;01mif\u001b[39;00m \u001b[38;5;124m'\u001b[39m\u001b[38;5;124mmax_nfev\u001b[39m\u001b[38;5;124m'\u001b[39m \u001b[38;5;129;01mnot\u001b[39;00m \u001b[38;5;129;01min\u001b[39;00m kwargs:\n",
      "\u001b[1;31mRuntimeError\u001b[0m: Optimal parameters not found: Number of calls to function has reached maxfev = 10000."
     ]
    }
   ],
   "source": [
    "# Define the linear function for curve fitting\n",
    "def frauhofer_approximated_double_function(X, A, C, D):\n",
    "    return np.abs(A)*( (np.cos( np.abs(D)*X ))**2 )*( ( np.sin(np.abs(C)*X ) )/( np.abs(C)*X ) )**2\n",
    "\n",
    "# Perform the curve fitting considering the uncertainties\n",
    "popt, pcov = curve_fit( frauhofer_approximated_double_function, data['x_desf (m)'], data['V_con_offset (V)'], p0 = (1.2415, 468.89, 1669.26), sigma=data['error V (V)'], absolute_sigma=True, maxfev = 10000 )"
   ]
  },
  {
   "cell_type": "code",
   "execution_count": null,
   "metadata": {},
   "outputs": [],
   "source": [
    "# Get the slope and intercept\n",
    "A = popt[0]\n",
    "C = popt[1]\n",
    "D = popt[2]\n",
    "#L = popt[3]\n",
    "\n",
    "# Get the standard errors for the parameters\n",
    "A_std_err = np.sqrt(pcov[0, 0])\n",
    "C_std_err = np.sqrt(pcov[1, 1])\n",
    "D_std_err = np.sqrt(pcov[2, 2])\n",
    "#L_std_err = np.sqrt(pcov[3, 3])\n",
    "\n",
    "## Setting variables\n",
    "x = data['x_desf (m)']\n",
    "y = data['V_con_offset (V)']\n",
    "yerr = data['error V (V)']\n",
    "xerr = data['error x_desf (m)']\n",
    "\n",
    "# Predict the Y values\n",
    "Y_pred = frauhofer_approximated_double_function(x, *popt)\n",
    "\n",
    "# Calculate normalized residuals\n",
    "residuals = (y - Y_pred)/yerr\n",
    "\n",
    "print(f\"A: {A} ± {A_std_err}\")\n",
    "print(f\"C: {C} ± {C_std_err}\")\n",
    "print(f\"D: {D} ± {D_std_err}\")\n",
    "#print(f\"L: {L} ± {L_std_err}\")\n",
    "\n",
    "# Create a figure with two subplots\n",
    "fig, (ax1, ax2) = plt.subplots(2, 1, figsize=(10, 10), gridspec_kw={'height_ratios': [2, 1]})  # 2 rows, 1 column, width = 10 inches, height = 10 inches\n",
    "\n",
    "# Plot the regression line\n",
    "ax1.errorbar(x, y, yerr, xerr,  fmt='o', label='Data points with errors')\n",
    "ax1.plot(x, Y_pred, color='red', linewidth=2, label=f'Fraunhofer para ángulos pequeños - dos rendijas')\n",
    "\n",
    "ax1.set_xlabel('x(m)')\n",
    "ax1.set_ylabel('V (V)')\n",
    "ax1.legend(loc='upper left')\n",
    "ax1.set_title('Rendija Derecha (láser) - Datos frente a Ajuste')\n",
    "\n",
    "# Plot normalized residuals\n",
    "ax2.scatter(x, residuals, color='green', alpha=0.5, label='Residuales')\n",
    "ax2.axhline(0, color='black', linewidth=1, linestyle='--')\n",
    "ax2.set_xlabel('x(m)')\n",
    "ax2.set_ylabel('Residuales Normalizados')\n",
    "ax2.legend(loc='upper right')\n",
    "ax2.set_title('Residuales del Ajuste para Rendija Derecha (láser)')\n",
    "\n",
    "plt.tight_layout()\n",
    "\n",
    "# Save the figure as a PDF file\n",
    "plt.savefig('rendija_doble_láser.pdf', format='pdf')\n",
    "plt.show()\n",
    "\n"
   ]
  },
  {
   "cell_type": "code",
   "execution_count": null,
   "metadata": {},
   "outputs": [],
   "source": []
  }
 ],
 "metadata": {
  "kernelspec": {
   "display_name": "Python 3 (ipykernel)",
   "language": "python",
   "name": "python3"
  },
  "language_info": {
   "codemirror_mode": {
    "name": "ipython",
    "version": 3
   },
   "file_extension": ".py",
   "mimetype": "text/x-python",
   "name": "python",
   "nbconvert_exporter": "python",
   "pygments_lexer": "ipython3",
   "version": "3.11.5"
  }
 },
 "nbformat": 4,
 "nbformat_minor": 2
}
