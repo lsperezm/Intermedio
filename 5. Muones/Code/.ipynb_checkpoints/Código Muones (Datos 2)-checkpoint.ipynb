{
 "cells": [
  {
   "cell_type": "code",
   "execution_count": 1,
   "id": "11c866b0",
   "metadata": {},
   "outputs": [],
   "source": [
    "import numpy as np\n",
    "import pandas as pd\n",
    "import matplotlib.pyplot as plt\n",
    "import scipy\n",
    "from scipy.optimize import curve_fit"
   ]
  },
  {
   "cell_type": "code",
   "execution_count": 2,
   "id": "90874fae",
   "metadata": {},
   "outputs": [
    {
     "name": "stdout",
     "output_type": "stream",
     "text": [
      "         40000  1715382134\n",
      "0        40000  1715382135\n",
      "1        40000  1715382136\n",
      "2        40000  1715382137\n",
      "3        40000  1715382138\n",
      "4        40000  1715382139\n",
      "...        ...         ...\n",
      "3353784   6180  1730488905\n",
      "3353785  40090  1730488906\n",
      "3353786  40005  1730488907\n",
      "3353787  40000  1730488908\n",
      "3353788  40000  1730488909\n",
      "\n",
      "[3353789 rows x 2 columns]\n"
     ]
    }
   ],
   "source": [
    "data = \"../RawData/muon2.data\"\n",
    "data = pd.read_csv(data, delimiter=',')\n",
    "\n",
    "print(data)"
   ]
  },
  {
   "cell_type": "code",
   "execution_count": 3,
   "id": "fddda0f1",
   "metadata": {},
   "outputs": [
    {
     "data": {
      "text/html": [
       "<div>\n",
       "<style scoped>\n",
       "    .dataframe tbody tr th:only-of-type {\n",
       "        vertical-align: middle;\n",
       "    }\n",
       "\n",
       "    .dataframe tbody tr th {\n",
       "        vertical-align: top;\n",
       "    }\n",
       "\n",
       "    .dataframe thead th {\n",
       "        text-align: right;\n",
       "    }\n",
       "</style>\n",
       "<table border=\"1\" class=\"dataframe\">\n",
       "  <thead>\n",
       "    <tr style=\"text-align: right;\">\n",
       "      <th></th>\n",
       "      <th>40000</th>\n",
       "      <th>1715382134</th>\n",
       "    </tr>\n",
       "  </thead>\n",
       "  <tbody>\n",
       "    <tr>\n",
       "      <th>0</th>\n",
       "      <td>40000</td>\n",
       "      <td>1715382135</td>\n",
       "    </tr>\n",
       "    <tr>\n",
       "      <th>1</th>\n",
       "      <td>40000</td>\n",
       "      <td>1715382136</td>\n",
       "    </tr>\n",
       "    <tr>\n",
       "      <th>2</th>\n",
       "      <td>40000</td>\n",
       "      <td>1715382137</td>\n",
       "    </tr>\n",
       "    <tr>\n",
       "      <th>3</th>\n",
       "      <td>40000</td>\n",
       "      <td>1715382138</td>\n",
       "    </tr>\n",
       "    <tr>\n",
       "      <th>4</th>\n",
       "      <td>40000</td>\n",
       "      <td>1715382139</td>\n",
       "    </tr>\n",
       "    <tr>\n",
       "      <th>...</th>\n",
       "      <td>...</td>\n",
       "      <td>...</td>\n",
       "    </tr>\n",
       "    <tr>\n",
       "      <th>3353784</th>\n",
       "      <td>6180</td>\n",
       "      <td>1730488905</td>\n",
       "    </tr>\n",
       "    <tr>\n",
       "      <th>3353785</th>\n",
       "      <td>40090</td>\n",
       "      <td>1730488906</td>\n",
       "    </tr>\n",
       "    <tr>\n",
       "      <th>3353786</th>\n",
       "      <td>40005</td>\n",
       "      <td>1730488907</td>\n",
       "    </tr>\n",
       "    <tr>\n",
       "      <th>3353787</th>\n",
       "      <td>40000</td>\n",
       "      <td>1730488908</td>\n",
       "    </tr>\n",
       "    <tr>\n",
       "      <th>3353788</th>\n",
       "      <td>40000</td>\n",
       "      <td>1730488909</td>\n",
       "    </tr>\n",
       "  </tbody>\n",
       "</table>\n",
       "<p>3353789 rows × 2 columns</p>\n",
       "</div>"
      ],
      "text/plain": [
       "         40000  1715382134\n",
       "0        40000  1715382135\n",
       "1        40000  1715382136\n",
       "2        40000  1715382137\n",
       "3        40000  1715382138\n",
       "4        40000  1715382139\n",
       "...        ...         ...\n",
       "3353784   6180  1730488905\n",
       "3353785  40090  1730488906\n",
       "3353786  40005  1730488907\n",
       "3353787  40000  1730488908\n",
       "3353788  40000  1730488909\n",
       "\n",
       "[3353789 rows x 2 columns]"
      ]
     },
     "execution_count": 3,
     "metadata": {},
     "output_type": "execute_result"
    }
   ],
   "source": [
    "df=pd.DataFrame(data)\n",
    "df"
   ]
  },
  {
   "cell_type": "code",
   "execution_count": 4,
   "id": "e574c1fa",
   "metadata": {},
   "outputs": [
    {
     "data": {
      "text/html": [
       "<div>\n",
       "<style scoped>\n",
       "    .dataframe tbody tr th:only-of-type {\n",
       "        vertical-align: middle;\n",
       "    }\n",
       "\n",
       "    .dataframe tbody tr th {\n",
       "        vertical-align: top;\n",
       "    }\n",
       "\n",
       "    .dataframe thead th {\n",
       "        text-align: right;\n",
       "    }\n",
       "</style>\n",
       "<table border=\"1\" class=\"dataframe\">\n",
       "  <thead>\n",
       "    <tr style=\"text-align: right;\">\n",
       "      <th></th>\n",
       "      <th>Tiempo</th>\n",
       "      <th>Fecha</th>\n",
       "    </tr>\n",
       "  </thead>\n",
       "  <tbody>\n",
       "    <tr>\n",
       "      <th>0</th>\n",
       "      <td>40000</td>\n",
       "      <td>1715382135</td>\n",
       "    </tr>\n",
       "    <tr>\n",
       "      <th>1</th>\n",
       "      <td>40000</td>\n",
       "      <td>1715382136</td>\n",
       "    </tr>\n",
       "    <tr>\n",
       "      <th>2</th>\n",
       "      <td>40000</td>\n",
       "      <td>1715382137</td>\n",
       "    </tr>\n",
       "    <tr>\n",
       "      <th>3</th>\n",
       "      <td>40000</td>\n",
       "      <td>1715382138</td>\n",
       "    </tr>\n",
       "    <tr>\n",
       "      <th>4</th>\n",
       "      <td>40000</td>\n",
       "      <td>1715382139</td>\n",
       "    </tr>\n",
       "    <tr>\n",
       "      <th>...</th>\n",
       "      <td>...</td>\n",
       "      <td>...</td>\n",
       "    </tr>\n",
       "    <tr>\n",
       "      <th>3353784</th>\n",
       "      <td>6180</td>\n",
       "      <td>1730488905</td>\n",
       "    </tr>\n",
       "    <tr>\n",
       "      <th>3353785</th>\n",
       "      <td>40090</td>\n",
       "      <td>1730488906</td>\n",
       "    </tr>\n",
       "    <tr>\n",
       "      <th>3353786</th>\n",
       "      <td>40005</td>\n",
       "      <td>1730488907</td>\n",
       "    </tr>\n",
       "    <tr>\n",
       "      <th>3353787</th>\n",
       "      <td>40000</td>\n",
       "      <td>1730488908</td>\n",
       "    </tr>\n",
       "    <tr>\n",
       "      <th>3353788</th>\n",
       "      <td>40000</td>\n",
       "      <td>1730488909</td>\n",
       "    </tr>\n",
       "  </tbody>\n",
       "</table>\n",
       "<p>3353789 rows × 2 columns</p>\n",
       "</div>"
      ],
      "text/plain": [
       "         Tiempo       Fecha\n",
       "0         40000  1715382135\n",
       "1         40000  1715382136\n",
       "2         40000  1715382137\n",
       "3         40000  1715382138\n",
       "4         40000  1715382139\n",
       "...         ...         ...\n",
       "3353784    6180  1730488905\n",
       "3353785   40090  1730488906\n",
       "3353786   40005  1730488907\n",
       "3353787   40000  1730488908\n",
       "3353788   40000  1730488909\n",
       "\n",
       "[3353789 rows x 2 columns]"
      ]
     },
     "execution_count": 4,
     "metadata": {},
     "output_type": "execute_result"
    }
   ],
   "source": [
    "df=df.rename(columns={'40000':'Tiempo','1715382134':'Fecha'})\n",
    "df"
   ]
  },
  {
   "cell_type": "code",
   "execution_count": 5,
   "id": "8d9ee1a1",
   "metadata": {},
   "outputs": [],
   "source": [
    "df1=df.drop('Fecha', axis=1)\n",
    "df1=df1[df1['Tiempo']<40000]"
   ]
  },
  {
   "cell_type": "code",
   "execution_count": 6,
   "id": "1880ef73",
   "metadata": {},
   "outputs": [
    {
     "name": "stdout",
     "output_type": "stream",
     "text": [
      "Tiempo\n",
      "(0, 20]               0\n",
      "(20, 40]          18613\n",
      "(40, 60]          20845\n",
      "(60, 80]           3591\n",
      "(80, 100]          2283\n",
      "                  ...  \n",
      "(39900, 39920]        0\n",
      "(39920, 39940]        0\n",
      "(39940, 39960]        0\n",
      "(39960, 39980]        0\n",
      "(39980, 40000]        0\n",
      "Name: count, Length: 2000, dtype: int64\n"
     ]
    }
   ],
   "source": [
    "tiempos = df1[\"Tiempo\"]\n",
    "\n",
    "separador_bins = list(range(0, 40001, 20))\n",
    "\n",
    "tiempos_separados = pd.cut(tiempos, bins=separador_bins)\n",
    "\n",
    "frecuencias = tiempos_separados.value_counts().sort_index()\n",
    "\n",
    "print(frecuencias)"
   ]
  },
  {
   "cell_type": "code",
   "execution_count": 7,
   "id": "4c2ed229",
   "metadata": {},
   "outputs": [
    {
     "data": {
      "text/plain": [
       "Text(0.5, 1.0, 'Histograma Inicial')"
      ]
     },
     "execution_count": 7,
     "metadata": {},
     "output_type": "execute_result"
    },
    {
     "data": {
      "image/png": "[encoded data removed]",
      "text/plain": [
       "<Figure size 640x480 with 1 Axes>"
      ]
     },
     "metadata": {},
     "output_type": "display_data"
    }
   ],
   "source": [
    "plt.hist(tiempos, bins=separador_bins, edgecolor='black', alpha=0.7)\n",
    "\n",
    "plt.xlabel('Tiempo (ns)')\n",
    "plt.ylabel('Frecuencia')\n",
    "plt.title('Histograma Inicial')"
   ]
  },
  {
   "cell_type": "code",
   "execution_count": 8,
   "id": "aed59964",
   "metadata": {},
   "outputs": [
    {
     "data": {
      "text/plain": [
       "\"\\ndf1=df1[df1['Tiempo']!=2000]\\ndf1=df1[df1['Tiempo']!=920]\\ndf1=df1[df1['Tiempo']!=10020]\\ndf1=df1[df1['Tiempo']!=10000]\\ndf1=df1[df1['Tiempo']!=9980]\\ndf1=df1[df1['Tiempo']!=9960]\\ndf1=df1[df1['Tiempo']!=9940]\\ndf1=df1[df1['Tiempo']!=9940]\\ndf1=df1[df1['Tiempo']!=9920]\\n\""
      ]
     },
     "execution_count": 8,
     "metadata": {},
     "output_type": "execute_result"
    }
   ],
   "source": [
    "df1=df1[df1['Tiempo']!=2000]\n",
    "df1=df1[df1['Tiempo']!=920]\n",
    "df1=df1[df1['Tiempo']!=10020]\n",
    "df1=df1[df1['Tiempo']!=10000]\n",
    "df1=df1[df1['Tiempo']!=9980]\n",
    "\n",
    "\n",
    "\n",
    "\"\"\"\n",
    "df1=df1[df1['Tiempo']!=2000]\n",
    "df1=df1[df1['Tiempo']!=920]\n",
    "df1=df1[df1['Tiempo']!=10020]\n",
    "df1=df1[df1['Tiempo']!=10000]\n",
    "df1=df1[df1['Tiempo']!=9980]\n",
    "df1=df1[df1['Tiempo']!=9960]\n",
    "df1=df1[df1['Tiempo']!=9940]\n",
    "df1=df1[df1['Tiempo']!=9940]\n",
    "df1=df1[df1['Tiempo']!=9920]\n",
    "\"\"\""
   ]
  },
  {
   "cell_type": "code",
   "execution_count": 9,
   "id": "e5c9d20d",
   "metadata": {},
   "outputs": [
    {
     "name": "stdout",
     "output_type": "stream",
     "text": [
      "Tiempo\n",
      "(0, 20]               0\n",
      "(20, 40]          18613\n",
      "(40, 60]          20845\n",
      "(60, 80]           3591\n",
      "(80, 100]          2283\n",
      "                  ...  \n",
      "(39900, 39920]        0\n",
      "(39920, 39940]        0\n",
      "(39940, 39960]        0\n",
      "(39960, 39980]        0\n",
      "(39980, 40000]        0\n",
      "Name: count, Length: 2000, dtype: int64\n"
     ]
    }
   ],
   "source": [
    "tiempos = df1[\"Tiempo\"]\n",
    "\n",
    "separador_bins = list(range(0, 40001, 20))\n",
    "\n",
    "tiempos_separados = pd.cut(tiempos, bins=separador_bins)\n",
    "\n",
    "frecuencias = tiempos_separados.value_counts().sort_index()\n",
    "\n",
    "print(frecuencias)"
   ]
  },
  {
   "cell_type": "code",
   "execution_count": 10,
   "id": "846a65fd",
   "metadata": {},
   "outputs": [
    {
     "data": {
      "text/html": [
       "<div>\n",
       "<style scoped>\n",
       "    .dataframe tbody tr th:only-of-type {\n",
       "        vertical-align: middle;\n",
       "    }\n",
       "\n",
       "    .dataframe tbody tr th {\n",
       "        vertical-align: top;\n",
       "    }\n",
       "\n",
       "    .dataframe thead th {\n",
       "        text-align: right;\n",
       "    }\n",
       "</style>\n",
       "<table border=\"1\" class=\"dataframe\">\n",
       "  <thead>\n",
       "    <tr style=\"text-align: right;\">\n",
       "      <th></th>\n",
       "      <th>Bin</th>\n",
       "      <th>Frecuencia</th>\n",
       "    </tr>\n",
       "  </thead>\n",
       "  <tbody>\n",
       "    <tr>\n",
       "      <th>0</th>\n",
       "      <td>(0, 20]</td>\n",
       "      <td>0</td>\n",
       "    </tr>\n",
       "    <tr>\n",
       "      <th>1</th>\n",
       "      <td>(20, 40]</td>\n",
       "      <td>18613</td>\n",
       "    </tr>\n",
       "    <tr>\n",
       "      <th>2</th>\n",
       "      <td>(40, 60]</td>\n",
       "      <td>20845</td>\n",
       "    </tr>\n",
       "    <tr>\n",
       "      <th>3</th>\n",
       "      <td>(60, 80]</td>\n",
       "      <td>3591</td>\n",
       "    </tr>\n",
       "    <tr>\n",
       "      <th>4</th>\n",
       "      <td>(80, 100]</td>\n",
       "      <td>2283</td>\n",
       "    </tr>\n",
       "    <tr>\n",
       "      <th>...</th>\n",
       "      <td>...</td>\n",
       "      <td>...</td>\n",
       "    </tr>\n",
       "    <tr>\n",
       "      <th>1995</th>\n",
       "      <td>(39900, 39920]</td>\n",
       "      <td>0</td>\n",
       "    </tr>\n",
       "    <tr>\n",
       "      <th>1996</th>\n",
       "      <td>(39920, 39940]</td>\n",
       "      <td>0</td>\n",
       "    </tr>\n",
       "    <tr>\n",
       "      <th>1997</th>\n",
       "      <td>(39940, 39960]</td>\n",
       "      <td>0</td>\n",
       "    </tr>\n",
       "    <tr>\n",
       "      <th>1998</th>\n",
       "      <td>(39960, 39980]</td>\n",
       "      <td>0</td>\n",
       "    </tr>\n",
       "    <tr>\n",
       "      <th>1999</th>\n",
       "      <td>(39980, 40000]</td>\n",
       "      <td>0</td>\n",
       "    </tr>\n",
       "  </tbody>\n",
       "</table>\n",
       "<p>2000 rows × 2 columns</p>\n",
       "</div>"
      ],
      "text/plain": [
       "                 Bin  Frecuencia\n",
       "0            (0, 20]           0\n",
       "1           (20, 40]       18613\n",
       "2           (40, 60]       20845\n",
       "3           (60, 80]        3591\n",
       "4          (80, 100]        2283\n",
       "...              ...         ...\n",
       "1995  (39900, 39920]           0\n",
       "1996  (39920, 39940]           0\n",
       "1997  (39940, 39960]           0\n",
       "1998  (39960, 39980]           0\n",
       "1999  (39980, 40000]           0\n",
       "\n",
       "[2000 rows x 2 columns]"
      ]
     },
     "execution_count": 10,
     "metadata": {},
     "output_type": "execute_result"
    }
   ],
   "source": [
    "frecuencias_df = frecuencias.reset_index()\n",
    "\n",
    "frecuencias_df.columns = ['Bin', 'Frecuencia']\n",
    "\n",
    "frecuencias_df"
   ]
  },
  {
   "cell_type": "code",
   "execution_count": 11,
   "id": "48290856",
   "metadata": {},
   "outputs": [
    {
     "data": {
      "text/html": [
       "<div>\n",
       "<style scoped>\n",
       "    .dataframe tbody tr th:only-of-type {\n",
       "        vertical-align: middle;\n",
       "    }\n",
       "\n",
       "    .dataframe tbody tr th {\n",
       "        vertical-align: top;\n",
       "    }\n",
       "\n",
       "    .dataframe thead th {\n",
       "        text-align: right;\n",
       "    }\n",
       "</style>\n",
       "<table border=\"1\" class=\"dataframe\">\n",
       "  <thead>\n",
       "    <tr style=\"text-align: right;\">\n",
       "      <th></th>\n",
       "      <th>Bin</th>\n",
       "      <th>Frecuencia</th>\n",
       "      <th>Limite Inferior</th>\n",
       "      <th>Limite Superior</th>\n",
       "      <th>Promedio</th>\n",
       "    </tr>\n",
       "  </thead>\n",
       "  <tbody>\n",
       "    <tr>\n",
       "      <th>0</th>\n",
       "      <td>(0, 20]</td>\n",
       "      <td>0</td>\n",
       "      <td>0</td>\n",
       "      <td>20</td>\n",
       "      <td>10.0</td>\n",
       "    </tr>\n",
       "    <tr>\n",
       "      <th>1</th>\n",
       "      <td>(20, 40]</td>\n",
       "      <td>18613</td>\n",
       "      <td>20</td>\n",
       "      <td>40</td>\n",
       "      <td>30.0</td>\n",
       "    </tr>\n",
       "    <tr>\n",
       "      <th>2</th>\n",
       "      <td>(40, 60]</td>\n",
       "      <td>20845</td>\n",
       "      <td>40</td>\n",
       "      <td>60</td>\n",
       "      <td>50.0</td>\n",
       "    </tr>\n",
       "    <tr>\n",
       "      <th>3</th>\n",
       "      <td>(60, 80]</td>\n",
       "      <td>3591</td>\n",
       "      <td>60</td>\n",
       "      <td>80</td>\n",
       "      <td>70.0</td>\n",
       "    </tr>\n",
       "    <tr>\n",
       "      <th>4</th>\n",
       "      <td>(80, 100]</td>\n",
       "      <td>2283</td>\n",
       "      <td>80</td>\n",
       "      <td>100</td>\n",
       "      <td>90.0</td>\n",
       "    </tr>\n",
       "    <tr>\n",
       "      <th>...</th>\n",
       "      <td>...</td>\n",
       "      <td>...</td>\n",
       "      <td>...</td>\n",
       "      <td>...</td>\n",
       "      <td>...</td>\n",
       "    </tr>\n",
       "    <tr>\n",
       "      <th>1995</th>\n",
       "      <td>(39900, 39920]</td>\n",
       "      <td>0</td>\n",
       "      <td>39900</td>\n",
       "      <td>39920</td>\n",
       "      <td>39910.0</td>\n",
       "    </tr>\n",
       "    <tr>\n",
       "      <th>1996</th>\n",
       "      <td>(39920, 39940]</td>\n",
       "      <td>0</td>\n",
       "      <td>39920</td>\n",
       "      <td>39940</td>\n",
       "      <td>39930.0</td>\n",
       "    </tr>\n",
       "    <tr>\n",
       "      <th>1997</th>\n",
       "      <td>(39940, 39960]</td>\n",
       "      <td>0</td>\n",
       "      <td>39940</td>\n",
       "      <td>39960</td>\n",
       "      <td>39950.0</td>\n",
       "    </tr>\n",
       "    <tr>\n",
       "      <th>1998</th>\n",
       "      <td>(39960, 39980]</td>\n",
       "      <td>0</td>\n",
       "      <td>39960</td>\n",
       "      <td>39980</td>\n",
       "      <td>39970.0</td>\n",
       "    </tr>\n",
       "    <tr>\n",
       "      <th>1999</th>\n",
       "      <td>(39980, 40000]</td>\n",
       "      <td>0</td>\n",
       "      <td>39980</td>\n",
       "      <td>40000</td>\n",
       "      <td>39990.0</td>\n",
       "    </tr>\n",
       "  </tbody>\n",
       "</table>\n",
       "<p>2000 rows × 5 columns</p>\n",
       "</div>"
      ],
      "text/plain": [
       "                 Bin  Frecuencia Limite Inferior Limite Superior  Promedio\n",
       "0            (0, 20]           0               0              20      10.0\n",
       "1           (20, 40]       18613              20              40      30.0\n",
       "2           (40, 60]       20845              40              60      50.0\n",
       "3           (60, 80]        3591              60              80      70.0\n",
       "4          (80, 100]        2283              80             100      90.0\n",
       "...              ...         ...             ...             ...       ...\n",
       "1995  (39900, 39920]           0           39900           39920   39910.0\n",
       "1996  (39920, 39940]           0           39920           39940   39930.0\n",
       "1997  (39940, 39960]           0           39940           39960   39950.0\n",
       "1998  (39960, 39980]           0           39960           39980   39970.0\n",
       "1999  (39980, 40000]           0           39980           40000   39990.0\n",
       "\n",
       "[2000 rows x 5 columns]"
      ]
     },
     "execution_count": 11,
     "metadata": {},
     "output_type": "execute_result"
    }
   ],
   "source": [
    "frecuencias_df['Limite Inferior'] = frecuencias_df['Bin'].apply(lambda x: x.left)\n",
    "frecuencias_df['Limite Superior'] = frecuencias_df['Bin'].apply(lambda x: x.right)\n",
    "\n",
    "frecuencias_df['Promedio'] = (frecuencias_df['Limite Inferior'].astype(float) + frecuencias_df['Limite Superior'].astype(float)) / 2\n",
    "\n",
    "frecuencias_df"
   ]
  },
  {
   "cell_type": "code",
   "execution_count": 12,
   "id": "d5dd0c51",
   "metadata": {},
   "outputs": [
    {
     "data": {
      "text/plain": [
       "180"
      ]
     },
     "execution_count": 12,
     "metadata": {},
     "output_type": "execute_result"
    }
   ],
   "source": [
    "most_frequent_value = tiempos.value_counts().idxmax()\n",
    "\n",
    "most_frequent_value"
   ]
  },
  {
   "cell_type": "code",
   "execution_count": 13,
   "id": "d89600ff",
   "metadata": {},
   "outputs": [
    {
     "data": {
      "text/plain": [
       "11740"
      ]
     },
     "execution_count": 13,
     "metadata": {},
     "output_type": "execute_result"
    }
   ],
   "source": [
    "plus8000 = df1[df1[\"Tiempo\"]>8000]\n",
    "\n",
    "vmf = plus8000[\"Tiempo\"].value_counts().idxmax()\n",
    "vmf"
   ]
  },
  {
   "cell_type": "code",
   "execution_count": 14,
   "id": "d1957da7",
   "metadata": {},
   "outputs": [
    {
     "data": {
      "image/png": "[encoded data removed]",
      "text/plain": [
       "<Figure size 640x480 with 1 Axes>"
      ]
     },
     "metadata": {},
     "output_type": "display_data"
    }
   ],
   "source": [
    "plt.hist(tiempos, bins=separador_bins, edgecolor='black', alpha=0.7)\n",
    "\n",
    "plt.xlabel('Tiempo (ns)')\n",
    "plt.ylabel('Frecuencia')\n",
    "plt.title('Histograma Final')\n",
    "\n",
    "plt.savefig(\"img\")"
   ]
  },
  {
   "cell_type": "code",
   "execution_count": 15,
   "id": "a7c70c79",
   "metadata": {},
   "outputs": [],
   "source": [
    "tiempo_prom, frecuencia=np.array(frecuencias_df['Promedio']), np.array(frecuencias_df['Frecuencia'])"
   ]
  },
  {
   "cell_type": "code",
   "execution_count": 16,
   "id": "9910c424",
   "metadata": {},
   "outputs": [],
   "source": [
    "f_cum=np.cumsum(frecuencia)\n",
    "\n",
    "total_decaimientos = frecuencias_df['Frecuencia'].sum()"
   ]
  },
  {
   "cell_type": "code",
   "execution_count": 17,
   "id": "30f2ce2d",
   "metadata": {},
   "outputs": [],
   "source": [
    "decaimiento=total_decaimientos-f_cum\n",
    "#decay[-1]=1/10000000\n"
   ]
  },
  {
   "cell_type": "code",
   "execution_count": 18,
   "id": "26c8553c",
   "metadata": {},
   "outputs": [
    {
     "data": {
      "text/plain": [
       "Text(0.5, 1.0, 'Decaimientos - Segunda Toma Corregida')"
      ]
     },
     "execution_count": 18,
     "metadata": {},
     "output_type": "execute_result"
    },
    {
     "data": {
      "image/png": "[encoded data removed]",
      "text/plain": [
       "<Figure size 640x480 with 1 Axes>"
      ]
     },
     "metadata": {},
     "output_type": "display_data"
    }
   ],
   "source": [
    "plt.scatter(tiempo_prom, decaimiento, s=1)\n",
    "plt.xlabel('Muon Decay Time (ns)')\n",
    "plt.ylabel('Frecuencia')\n",
    "plt.title(\"Decaimientos - Segunda Toma Corregida\")"
   ]
  },
  {
   "cell_type": "code",
   "execution_count": 19,
   "id": "7eec30a9",
   "metadata": {},
   "outputs": [],
   "source": [
    "def fit_ruido(X, tau, B):\n",
    "    return (total_decaimientos)*np.exp(-X/tau) + B\n",
    "\n",
    "popt, pcov = curve_fit( fit_ruido, tiempo_prom, decaimiento, p0 = (2.2, 0), absolute_sigma=True, maxfev = 10000 )"
   ]
  },
  {
   "cell_type": "code",
   "execution_count": 20,
   "id": "9486e7a5",
   "metadata": {},
   "outputs": [
    {
     "name": "stdout",
     "output_type": "stream",
     "text": [
      "2411.3026208616607\n",
      "4835.523067802923\n"
     ]
    }
   ],
   "source": [
    "tau_ruido = popt[0]\n",
    "B = popt[1]\n",
    "\n",
    "print(tau_ruido)\n",
    "print(B)"
   ]
  },
  {
   "cell_type": "code",
   "execution_count": 21,
   "id": "3b1eeb36",
   "metadata": {},
   "outputs": [
    {
     "name": "stdout",
     "output_type": "stream",
     "text": [
      "0.0011985435839694577\n",
      "0.025668503385220184\n"
     ]
    }
   ],
   "source": [
    "print(np.sqrt(pcov[0, 0]))\n",
    "print(np.sqrt(pcov[1, 1]))"
   ]
  },
  {
   "cell_type": "code",
   "execution_count": 22,
   "id": "653570b9",
   "metadata": {},
   "outputs": [
    {
     "data": {
      "text/plain": [
       "<matplotlib.collections.PathCollection at 0x2bac09b9a10>"
      ]
     },
     "execution_count": 22,
     "metadata": {},
     "output_type": "execute_result"
    },
    {
     "data": {
      "image/png": "[encoded data removed]",
      "text/plain": [
       "<Figure size 640x480 with 1 Axes>"
      ]
     },
     "metadata": {},
     "output_type": "display_data"
    }
   ],
   "source": [
    "X = np.linspace(0, 40000, 400001)\n",
    "plt.plot( X, fit_ruido(X, tau_ruido, B), color=\"red\", linestyle=\"--\", label=r\"$N_0e^{-t/(2411.303 \\pm 0.001)} + (4835.52 \\pm 0.03)$\")\n",
    "\n",
    "plt.xlabel('Muon Decay Time (ns)')\n",
    "plt.ylabel('Frecuencia')\n",
    "plt.title(\"Decaimientos con fit \" + r'$N_0e^{-t/\\tau} + B$')\n",
    "plt.legend(loc = \"upper right\")\n",
    "\n",
    "plt.scatter(tiempo_prom, decaimiento, s=1)"
   ]
  },
  {
   "cell_type": "code",
   "execution_count": null,
   "id": "c1df4312",
   "metadata": {},
   "outputs": [],
   "source": [
    "model = fit(X, tau)"
   ]
  },
  {
   "cell_type": "code",
   "execution_count": null,
   "id": "99f44228",
   "metadata": {},
   "outputs": [],
   "source": [
    "res = (decaimiento - model)/Yerr\n",
    "\n",
    "fig2, (ax2) = plt.subplots(1, 1)\n",
    "\n",
    "ax2.scatter(X, res)\n",
    "ax2.axhline(0, color='green', linewidth=1, linestyle='--')\n",
    "\n",
    "ax2.set_xlabel('Tiempo de Decaimiento (ns)')\n",
    "ax2.set_ylabel('Residuales Normalizados')\n",
    "ax2.set_title('Residuales para ' + \"decaimientos con fit \" + r'$N_0e^{-t/\\tau} + B$')\n",
    "ax2.grid()\n",
    "\n",
    "plt.savefig('res_ajuste1.png', format='png')"
   ]
  },
  {
   "cell_type": "code",
   "execution_count": 23,
   "id": "a3ae380f",
   "metadata": {},
   "outputs": [
    {
     "data": {
      "text/html": [
       "<div>\n",
       "<style scoped>\n",
       "    .dataframe tbody tr th:only-of-type {\n",
       "        vertical-align: middle;\n",
       "    }\n",
       "\n",
       "    .dataframe tbody tr th {\n",
       "        vertical-align: top;\n",
       "    }\n",
       "\n",
       "    .dataframe thead th {\n",
       "        text-align: right;\n",
       "    }\n",
       "</style>\n",
       "<table border=\"1\" class=\"dataframe\">\n",
       "  <thead>\n",
       "    <tr style=\"text-align: right;\">\n",
       "      <th></th>\n",
       "      <th>Bin</th>\n",
       "      <th>Frecuencia</th>\n",
       "      <th>Limite Inferior</th>\n",
       "      <th>Limite Superior</th>\n",
       "      <th>Promedio</th>\n",
       "    </tr>\n",
       "  </thead>\n",
       "  <tbody>\n",
       "    <tr>\n",
       "      <th>0</th>\n",
       "      <td>(0, 20]</td>\n",
       "      <td>0</td>\n",
       "      <td>0</td>\n",
       "      <td>20</td>\n",
       "      <td>10.0</td>\n",
       "    </tr>\n",
       "    <tr>\n",
       "      <th>1</th>\n",
       "      <td>(20, 40]</td>\n",
       "      <td>18613</td>\n",
       "      <td>20</td>\n",
       "      <td>40</td>\n",
       "      <td>30.0</td>\n",
       "    </tr>\n",
       "    <tr>\n",
       "      <th>2</th>\n",
       "      <td>(40, 60]</td>\n",
       "      <td>20845</td>\n",
       "      <td>40</td>\n",
       "      <td>60</td>\n",
       "      <td>50.0</td>\n",
       "    </tr>\n",
       "    <tr>\n",
       "      <th>3</th>\n",
       "      <td>(60, 80]</td>\n",
       "      <td>3591</td>\n",
       "      <td>60</td>\n",
       "      <td>80</td>\n",
       "      <td>70.0</td>\n",
       "    </tr>\n",
       "    <tr>\n",
       "      <th>4</th>\n",
       "      <td>(80, 100]</td>\n",
       "      <td>2283</td>\n",
       "      <td>80</td>\n",
       "      <td>100</td>\n",
       "      <td>90.0</td>\n",
       "    </tr>\n",
       "    <tr>\n",
       "      <th>...</th>\n",
       "      <td>...</td>\n",
       "      <td>...</td>\n",
       "      <td>...</td>\n",
       "      <td>...</td>\n",
       "      <td>...</td>\n",
       "    </tr>\n",
       "    <tr>\n",
       "      <th>994</th>\n",
       "      <td>(19880, 19900]</td>\n",
       "      <td>117</td>\n",
       "      <td>19880</td>\n",
       "      <td>19900</td>\n",
       "      <td>19890.0</td>\n",
       "    </tr>\n",
       "    <tr>\n",
       "      <th>995</th>\n",
       "      <td>(19900, 19920]</td>\n",
       "      <td>193</td>\n",
       "      <td>19900</td>\n",
       "      <td>19920</td>\n",
       "      <td>19910.0</td>\n",
       "    </tr>\n",
       "    <tr>\n",
       "      <th>996</th>\n",
       "      <td>(19920, 19940]</td>\n",
       "      <td>72</td>\n",
       "      <td>19920</td>\n",
       "      <td>19940</td>\n",
       "      <td>19930.0</td>\n",
       "    </tr>\n",
       "    <tr>\n",
       "      <th>997</th>\n",
       "      <td>(19940, 19960]</td>\n",
       "      <td>60</td>\n",
       "      <td>19940</td>\n",
       "      <td>19960</td>\n",
       "      <td>19950.0</td>\n",
       "    </tr>\n",
       "    <tr>\n",
       "      <th>998</th>\n",
       "      <td>(19960, 19980]</td>\n",
       "      <td>79</td>\n",
       "      <td>19960</td>\n",
       "      <td>19980</td>\n",
       "      <td>19970.0</td>\n",
       "    </tr>\n",
       "  </tbody>\n",
       "</table>\n",
       "<p>999 rows × 5 columns</p>\n",
       "</div>"
      ],
      "text/plain": [
       "                Bin  Frecuencia Limite Inferior Limite Superior  Promedio\n",
       "0           (0, 20]           0               0              20      10.0\n",
       "1          (20, 40]       18613              20              40      30.0\n",
       "2          (40, 60]       20845              40              60      50.0\n",
       "3          (60, 80]        3591              60              80      70.0\n",
       "4         (80, 100]        2283              80             100      90.0\n",
       "..              ...         ...             ...             ...       ...\n",
       "994  (19880, 19900]         117           19880           19900   19890.0\n",
       "995  (19900, 19920]         193           19900           19920   19910.0\n",
       "996  (19920, 19940]          72           19920           19940   19930.0\n",
       "997  (19940, 19960]          60           19940           19960   19950.0\n",
       "998  (19960, 19980]          79           19960           19980   19970.0\n",
       "\n",
       "[999 rows x 5 columns]"
      ]
     },
     "execution_count": 23,
     "metadata": {},
     "output_type": "execute_result"
    }
   ],
   "source": [
    "last_non_zero_index = frecuencias_df[frecuencias_df['Frecuencia'] > 0].index[-1]\n",
    "\n",
    "frecuencias_df_filtrada = frecuencias_df.loc[:last_non_zero_index]\n",
    "\n",
    "frecuencias_df_filtrada"
   ]
  },
  {
   "cell_type": "code",
   "execution_count": 24,
   "id": "2f8a0d53",
   "metadata": {},
   "outputs": [],
   "source": [
    "tiempo_prom, frecuencia=np.array(frecuencias_df['Promedio']), np.array(frecuencias_df['Frecuencia'])"
   ]
  },
  {
   "cell_type": "code",
   "execution_count": 30,
   "id": "1c3ffd5c",
   "metadata": {},
   "outputs": [
    {
     "data": {
      "text/plain": [
       "array([ -4835,  13778,  34623, ..., 415823, 415823, 415823], dtype=int64)"
      ]
     },
     "execution_count": 30,
     "metadata": {},
     "output_type": "execute_result"
    }
   ],
   "source": [
    "f_cum=np.cumsum(frecuencia) - int(B)\n",
    "\n",
    "total_decaimientos = f_cum[-1]\n",
    "\n",
    "f_cum"
   ]
  },
  {
   "cell_type": "code",
   "execution_count": 31,
   "id": "728e23fb",
   "metadata": {},
   "outputs": [
    {
     "data": {
      "text/plain": [
       "415823"
      ]
     },
     "execution_count": 31,
     "metadata": {},
     "output_type": "execute_result"
    }
   ],
   "source": [
    "total_decaimientos"
   ]
  },
  {
   "cell_type": "code",
   "execution_count": 26,
   "id": "47a84ec6",
   "metadata": {},
   "outputs": [],
   "source": [
    "decaimiento=total_decaimientos-f_cum"
   ]
  },
  {
   "cell_type": "code",
   "execution_count": 27,
   "id": "76bcb4e1",
   "metadata": {},
   "outputs": [],
   "source": [
    "def fit(X, tau):\n",
    "    return (total_decaimientos)*np.exp(-X/tau)\n",
    "\n",
    "popt, pcov = curve_fit( fit, tiempo_prom, decaimiento, p0 = (2.2), absolute_sigma=True, maxfev = 10000 )"
   ]
  },
  {
   "cell_type": "code",
   "execution_count": 28,
   "id": "3005b671",
   "metadata": {},
   "outputs": [
    {
     "name": "stdout",
     "output_type": "stream",
     "text": [
      "2594.711607924078\n",
      "0.0010956632483873634\n"
     ]
    }
   ],
   "source": [
    "tau = popt[0]\n",
    "tau_err = np.sqrt(pcov[0, 0])\n",
    "\n",
    "print(tau)\n",
    "print(tau_err)"
   ]
  },
  {
   "cell_type": "code",
   "execution_count": 29,
   "id": "1f93ab51",
   "metadata": {},
   "outputs": [
    {
     "data": {
      "image/png": "[encoded data removed]",
      "text/plain": [
       "<Figure size 640x480 with 1 Axes>"
      ]
     },
     "metadata": {},
     "output_type": "display_data"
    }
   ],
   "source": [
    "X = np.linspace(0, 40000, 400001)\n",
    "plt.plot( X, fit(X, tau), color=\"red\", linestyle=\"--\", label=r\"$N_0e^{-t/(2309.323 \\pm 0.001)}$\")\n",
    "\n",
    "plt.xlabel('Muon Decay Time (ns)')\n",
    "plt.ylabel('Frecuencia')\n",
    "plt.title(\"Decaimientos sin ruido con fit \" + r'$N_0e^{-t/\\tau}$')\n",
    "plt.legend(loc = \"upper right\")\n",
    "\n",
    "plt.scatter(tiempo_prom, decaimiento, s=1)\n",
    "\n",
    "plt.savefig(\"img\")"
   ]
  },
  {
   "cell_type": "code",
   "execution_count": null,
   "id": "8062ab19",
   "metadata": {},
   "outputs": [],
   "source": [
    "model = fit(X, tau)"
   ]
  },
  {
   "cell_type": "code",
   "execution_count": null,
   "id": "1e11d47b",
   "metadata": {},
   "outputs": [],
   "source": [
    "res = (decaimiento - model)/Yerr\n",
    "\n",
    "fig2, (ax2) = plt.subplots(1, 1)\n",
    "\n",
    "ax2.scatter(X, res)\n",
    "ax2.axhline(0, color='green', linewidth=1, linestyle='--')\n",
    "\n",
    "ax2.set_xlabel('Tiempo de Decaimiento (ns)')\n",
    "ax2.set_ylabel('Residuales Normalizados')\n",
    "ax2.set_title('Residuales para ' + \"decaimientos con fit \" + r'$N_0e^{-t/\\tau}$')\n",
    "ax2.grid()\n",
    "\n",
    "plt.savefig('res_ajuste2.png', format='png')"
   ]
  }
 ],
 "metadata": {
  "kernelspec": {
   "display_name": "Python 3 (ipykernel)",
   "language": "python",
   "name": "python3"
  },
  "language_info": {
   "codemirror_mode": {
    "name": "ipython",
    "version": 3
   },
   "file_extension": ".py",
   "mimetype": "text/x-python",
   "name": "python",
   "nbconvert_exporter": "python",
   "pygments_lexer": "ipython3",
   "version": "3.11.5"
  }
 },
 "nbformat": 4,
 "nbformat_minor": 5
}
