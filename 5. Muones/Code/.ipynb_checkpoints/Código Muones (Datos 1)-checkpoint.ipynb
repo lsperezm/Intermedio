{
 "cells": [
  {
   "cell_type": "code",
   "execution_count": 1,
   "id": "11c866b0",
   "metadata": {},
   "outputs": [],
   "source": [
    "import numpy as np\n",
    "import pandas as pd\n",
    "import matplotlib.pyplot as plt\n",
    "import scipy\n",
    "from scipy.optimize import curve_fit"
   ]
  },
  {
   "cell_type": "code",
   "execution_count": 2,
   "id": "90874fae",
   "metadata": {},
   "outputs": [
    {
     "name": "stdout",
     "output_type": "stream",
     "text": [
      "         40000  1715382134\n",
      "0        40000  1715382135\n",
      "1        40000  1715382136\n",
      "2        40000  1715382137\n",
      "3        40000  1715382138\n",
      "4        40000  1715382139\n",
      "...        ...         ...\n",
      "3001303  40000  1730315405\n",
      "3001304  40000  1730315406\n",
      "3001305  40000  1730315407\n",
      "3001306  40000  1730315408\n",
      "3001307  40000  1730315409\n",
      "\n",
      "[3001308 rows x 2 columns]\n"
     ]
    }
   ],
   "source": [
    "data = \"../RawData/muon.data\"\n",
    "data = pd.read_csv(data, delimiter=',')\n",
    "\n",
    "print(data)"
   ]
  },
  {
   "cell_type": "code",
   "execution_count": 3,
   "id": "fddda0f1",
   "metadata": {},
   "outputs": [
    {
     "data": {
      "text/html": [
       "<div>\n",
       "<style scoped>\n",
       "    .dataframe tbody tr th:only-of-type {\n",
       "        vertical-align: middle;\n",
       "    }\n",
       "\n",
       "    .dataframe tbody tr th {\n",
       "        vertical-align: top;\n",
       "    }\n",
       "\n",
       "    .dataframe thead th {\n",
       "        text-align: right;\n",
       "    }\n",
       "</style>\n",
       "<table border=\"1\" class=\"dataframe\">\n",
       "  <thead>\n",
       "    <tr style=\"text-align: right;\">\n",
       "      <th></th>\n",
       "      <th>40000</th>\n",
       "      <th>1715382134</th>\n",
       "    </tr>\n",
       "  </thead>\n",
       "  <tbody>\n",
       "    <tr>\n",
       "      <th>0</th>\n",
       "      <td>40000</td>\n",
       "      <td>1715382135</td>\n",
       "    </tr>\n",
       "    <tr>\n",
       "      <th>1</th>\n",
       "      <td>40000</td>\n",
       "      <td>1715382136</td>\n",
       "    </tr>\n",
       "    <tr>\n",
       "      <th>2</th>\n",
       "      <td>40000</td>\n",
       "      <td>1715382137</td>\n",
       "    </tr>\n",
       "    <tr>\n",
       "      <th>3</th>\n",
       "      <td>40000</td>\n",
       "      <td>1715382138</td>\n",
       "    </tr>\n",
       "    <tr>\n",
       "      <th>4</th>\n",
       "      <td>40000</td>\n",
       "      <td>1715382139</td>\n",
       "    </tr>\n",
       "    <tr>\n",
       "      <th>...</th>\n",
       "      <td>...</td>\n",
       "      <td>...</td>\n",
       "    </tr>\n",
       "    <tr>\n",
       "      <th>3001303</th>\n",
       "      <td>40000</td>\n",
       "      <td>1730315405</td>\n",
       "    </tr>\n",
       "    <tr>\n",
       "      <th>3001304</th>\n",
       "      <td>40000</td>\n",
       "      <td>1730315406</td>\n",
       "    </tr>\n",
       "    <tr>\n",
       "      <th>3001305</th>\n",
       "      <td>40000</td>\n",
       "      <td>1730315407</td>\n",
       "    </tr>\n",
       "    <tr>\n",
       "      <th>3001306</th>\n",
       "      <td>40000</td>\n",
       "      <td>1730315408</td>\n",
       "    </tr>\n",
       "    <tr>\n",
       "      <th>3001307</th>\n",
       "      <td>40000</td>\n",
       "      <td>1730315409</td>\n",
       "    </tr>\n",
       "  </tbody>\n",
       "</table>\n",
       "<p>3001308 rows × 2 columns</p>\n",
       "</div>"
      ],
      "text/plain": [
       "         40000  1715382134\n",
       "0        40000  1715382135\n",
       "1        40000  1715382136\n",
       "2        40000  1715382137\n",
       "3        40000  1715382138\n",
       "4        40000  1715382139\n",
       "...        ...         ...\n",
       "3001303  40000  1730315405\n",
       "3001304  40000  1730315406\n",
       "3001305  40000  1730315407\n",
       "3001306  40000  1730315408\n",
       "3001307  40000  1730315409\n",
       "\n",
       "[3001308 rows x 2 columns]"
      ]
     },
     "execution_count": 3,
     "metadata": {},
     "output_type": "execute_result"
    }
   ],
   "source": [
    "df=pd.DataFrame(data)\n",
    "df"
   ]
  },
  {
   "cell_type": "code",
   "execution_count": 4,
   "id": "73098bc1",
   "metadata": {},
   "outputs": [
    {
     "data": {
      "text/html": [
       "<div>\n",
       "<style scoped>\n",
       "    .dataframe tbody tr th:only-of-type {\n",
       "        vertical-align: middle;\n",
       "    }\n",
       "\n",
       "    .dataframe tbody tr th {\n",
       "        vertical-align: top;\n",
       "    }\n",
       "\n",
       "    .dataframe thead th {\n",
       "        text-align: right;\n",
       "    }\n",
       "</style>\n",
       "<table border=\"1\" class=\"dataframe\">\n",
       "  <thead>\n",
       "    <tr style=\"text-align: right;\">\n",
       "      <th></th>\n",
       "      <th>Tiempo</th>\n",
       "      <th>Fecha</th>\n",
       "    </tr>\n",
       "  </thead>\n",
       "  <tbody>\n",
       "    <tr>\n",
       "      <th>0</th>\n",
       "      <td>40000</td>\n",
       "      <td>1715382135</td>\n",
       "    </tr>\n",
       "    <tr>\n",
       "      <th>1</th>\n",
       "      <td>40000</td>\n",
       "      <td>1715382136</td>\n",
       "    </tr>\n",
       "    <tr>\n",
       "      <th>2</th>\n",
       "      <td>40000</td>\n",
       "      <td>1715382137</td>\n",
       "    </tr>\n",
       "    <tr>\n",
       "      <th>3</th>\n",
       "      <td>40000</td>\n",
       "      <td>1715382138</td>\n",
       "    </tr>\n",
       "    <tr>\n",
       "      <th>4</th>\n",
       "      <td>40000</td>\n",
       "      <td>1715382139</td>\n",
       "    </tr>\n",
       "    <tr>\n",
       "      <th>...</th>\n",
       "      <td>...</td>\n",
       "      <td>...</td>\n",
       "    </tr>\n",
       "    <tr>\n",
       "      <th>3001303</th>\n",
       "      <td>40000</td>\n",
       "      <td>1730315405</td>\n",
       "    </tr>\n",
       "    <tr>\n",
       "      <th>3001304</th>\n",
       "      <td>40000</td>\n",
       "      <td>1730315406</td>\n",
       "    </tr>\n",
       "    <tr>\n",
       "      <th>3001305</th>\n",
       "      <td>40000</td>\n",
       "      <td>1730315407</td>\n",
       "    </tr>\n",
       "    <tr>\n",
       "      <th>3001306</th>\n",
       "      <td>40000</td>\n",
       "      <td>1730315408</td>\n",
       "    </tr>\n",
       "    <tr>\n",
       "      <th>3001307</th>\n",
       "      <td>40000</td>\n",
       "      <td>1730315409</td>\n",
       "    </tr>\n",
       "  </tbody>\n",
       "</table>\n",
       "<p>3001308 rows × 2 columns</p>\n",
       "</div>"
      ],
      "text/plain": [
       "         Tiempo       Fecha\n",
       "0         40000  1715382135\n",
       "1         40000  1715382136\n",
       "2         40000  1715382137\n",
       "3         40000  1715382138\n",
       "4         40000  1715382139\n",
       "...         ...         ...\n",
       "3001303   40000  1730315405\n",
       "3001304   40000  1730315406\n",
       "3001305   40000  1730315407\n",
       "3001306   40000  1730315408\n",
       "3001307   40000  1730315409\n",
       "\n",
       "[3001308 rows x 2 columns]"
      ]
     },
     "execution_count": 4,
     "metadata": {},
     "output_type": "execute_result"
    }
   ],
   "source": [
    "df=df.rename(columns={'40000':'Tiempo','1715382134':'Fecha'})\n",
    "df"
   ]
  },
  {
   "cell_type": "code",
   "execution_count": 5,
   "id": "103cf68d",
   "metadata": {},
   "outputs": [],
   "source": [
    "df1=df.drop('Fecha', axis=1)\n",
    "df1=df1[df1['Tiempo']<40000]"
   ]
  },
  {
   "cell_type": "code",
   "execution_count": 6,
   "id": "7bebb76c",
   "metadata": {},
   "outputs": [
    {
     "name": "stdout",
     "output_type": "stream",
     "text": [
      "Tiempo\n",
      "(0, 20]              0\n",
      "(20, 40]          6189\n",
      "(40, 60]          5894\n",
      "(60, 80]           628\n",
      "(80, 100]          963\n",
      "                  ... \n",
      "(39900, 39920]       0\n",
      "(39920, 39940]       0\n",
      "(39940, 39960]       0\n",
      "(39960, 39980]       0\n",
      "(39980, 40000]       0\n",
      "Name: count, Length: 2000, dtype: int64\n"
     ]
    }
   ],
   "source": [
    "tiempos = df1[\"Tiempo\"]\n",
    "\n",
    "separador_bins = list(range(0, 40001, 20))\n",
    "\n",
    "tiempos_separados = pd.cut(tiempos, bins=separador_bins)\n",
    "\n",
    "frecuencias = tiempos_separados.value_counts().sort_index()\n",
    "\n",
    "print(frecuencias)"
   ]
  },
  {
   "cell_type": "code",
   "execution_count": 7,
   "id": "3a88ba14",
   "metadata": {},
   "outputs": [
    {
     "data": {
      "image/png": "[encoded data removed]",
      "text/plain": [
       "<Figure size 640x480 with 1 Axes>"
      ]
     },
     "metadata": {},
     "output_type": "display_data"
    }
   ],
   "source": [
    "plt.hist(tiempos, bins=separador_bins, edgecolor='black', alpha=0.7)\n",
    "\n",
    "plt.xlabel('Tiempo (ns)')\n",
    "plt.ylabel('Frecuencia')\n",
    "plt.title('Histograma Inicial')"
   ]
  },
  {
   "cell_type": "code",
   "execution_count": 8,
   "id": "aed59964",
   "metadata": {},
   "outputs": [
    {
     "data": {
      "text/plain": [
       "\"\\ndf1=df1[df1['Tiempo']!=2000]\\ndf1=df1[df1['Tiempo']!=920]\\ndf1=df1[df1['Tiempo']!=10000]\\ndf1=df1[df1['Tiempo']!=9980]\\ndf1=df1[df1['Tiempo']!=9960]\\ndf1=df1[df1['Tiempo']!=9940]\\ndf1=df1[df1['Tiempo']!=9940]\\ndf1=df1[df1['Tiempo']!=9920]\\n\""
      ]
     },
     "execution_count": 8,
     "metadata": {},
     "output_type": "execute_result"
    }
   ],
   "source": [
    "df1=df1[df1['Tiempo']!=2000]\n",
    "df1=df1[df1['Tiempo']!=920]\n",
    "df1=df1[df1['Tiempo']!=10000]\n",
    "df1=df1[df1['Tiempo']!=9980]\n",
    "df1=df1[df1['Tiempo']!=9960]\n",
    "df1=df1[df1['Tiempo']!=9940]\n",
    "df1=df1[df1['Tiempo']!=9940]\n",
    "df1=df1[df1['Tiempo']!=9920]\n",
    "df1=df1[df1['Tiempo']!=9900]\n",
    "\n",
    "\"\"\"\n",
    "df1=df1[df1['Tiempo']!=2000]\n",
    "df1=df1[df1['Tiempo']!=920]\n",
    "df1=df1[df1['Tiempo']!=10000]\n",
    "df1=df1[df1['Tiempo']!=9980]\n",
    "df1=df1[df1['Tiempo']!=9960]\n",
    "df1=df1[df1['Tiempo']!=9940]\n",
    "df1=df1[df1['Tiempo']!=9940]\n",
    "df1=df1[df1['Tiempo']!=9920]\n",
    "\"\"\""
   ]
  },
  {
   "cell_type": "code",
   "execution_count": 9,
   "id": "a2d92055",
   "metadata": {},
   "outputs": [
    {
     "name": "stdout",
     "output_type": "stream",
     "text": [
      "Tiempo\n",
      "(0, 20]              0\n",
      "(20, 40]          6189\n",
      "(40, 60]          5894\n",
      "(60, 80]           628\n",
      "(80, 100]          963\n",
      "                  ... \n",
      "(39900, 39920]       0\n",
      "(39920, 39940]       0\n",
      "(39940, 39960]       0\n",
      "(39960, 39980]       0\n",
      "(39980, 40000]       0\n",
      "Name: count, Length: 2000, dtype: int64\n"
     ]
    }
   ],
   "source": [
    "tiempos = df1[\"Tiempo\"]\n",
    "\n",
    "separador_bins = list(range(0, 40001, 20))\n",
    "\n",
    "tiempos_separados = pd.cut(tiempos, bins=separador_bins)\n",
    "\n",
    "frecuencias = tiempos_separados.value_counts().sort_index()\n",
    "\n",
    "print(frecuencias)"
   ]
  },
  {
   "cell_type": "code",
   "execution_count": 10,
   "id": "fd9c8cea",
   "metadata": {},
   "outputs": [
    {
     "data": {
      "text/html": [
       "<div>\n",
       "<style scoped>\n",
       "    .dataframe tbody tr th:only-of-type {\n",
       "        vertical-align: middle;\n",
       "    }\n",
       "\n",
       "    .dataframe tbody tr th {\n",
       "        vertical-align: top;\n",
       "    }\n",
       "\n",
       "    .dataframe thead th {\n",
       "        text-align: right;\n",
       "    }\n",
       "</style>\n",
       "<table border=\"1\" class=\"dataframe\">\n",
       "  <thead>\n",
       "    <tr style=\"text-align: right;\">\n",
       "      <th></th>\n",
       "      <th>Bin</th>\n",
       "      <th>Frecuencia</th>\n",
       "    </tr>\n",
       "  </thead>\n",
       "  <tbody>\n",
       "    <tr>\n",
       "      <th>0</th>\n",
       "      <td>(0, 20]</td>\n",
       "      <td>0</td>\n",
       "    </tr>\n",
       "    <tr>\n",
       "      <th>1</th>\n",
       "      <td>(20, 40]</td>\n",
       "      <td>6189</td>\n",
       "    </tr>\n",
       "    <tr>\n",
       "      <th>2</th>\n",
       "      <td>(40, 60]</td>\n",
       "      <td>5894</td>\n",
       "    </tr>\n",
       "    <tr>\n",
       "      <th>3</th>\n",
       "      <td>(60, 80]</td>\n",
       "      <td>628</td>\n",
       "    </tr>\n",
       "    <tr>\n",
       "      <th>4</th>\n",
       "      <td>(80, 100]</td>\n",
       "      <td>963</td>\n",
       "    </tr>\n",
       "    <tr>\n",
       "      <th>...</th>\n",
       "      <td>...</td>\n",
       "      <td>...</td>\n",
       "    </tr>\n",
       "    <tr>\n",
       "      <th>1995</th>\n",
       "      <td>(39900, 39920]</td>\n",
       "      <td>0</td>\n",
       "    </tr>\n",
       "    <tr>\n",
       "      <th>1996</th>\n",
       "      <td>(39920, 39940]</td>\n",
       "      <td>0</td>\n",
       "    </tr>\n",
       "    <tr>\n",
       "      <th>1997</th>\n",
       "      <td>(39940, 39960]</td>\n",
       "      <td>0</td>\n",
       "    </tr>\n",
       "    <tr>\n",
       "      <th>1998</th>\n",
       "      <td>(39960, 39980]</td>\n",
       "      <td>0</td>\n",
       "    </tr>\n",
       "    <tr>\n",
       "      <th>1999</th>\n",
       "      <td>(39980, 40000]</td>\n",
       "      <td>0</td>\n",
       "    </tr>\n",
       "  </tbody>\n",
       "</table>\n",
       "<p>2000 rows × 2 columns</p>\n",
       "</div>"
      ],
      "text/plain": [
       "                 Bin  Frecuencia\n",
       "0            (0, 20]           0\n",
       "1           (20, 40]        6189\n",
       "2           (40, 60]        5894\n",
       "3           (60, 80]         628\n",
       "4          (80, 100]         963\n",
       "...              ...         ...\n",
       "1995  (39900, 39920]           0\n",
       "1996  (39920, 39940]           0\n",
       "1997  (39940, 39960]           0\n",
       "1998  (39960, 39980]           0\n",
       "1999  (39980, 40000]           0\n",
       "\n",
       "[2000 rows x 2 columns]"
      ]
     },
     "execution_count": 10,
     "metadata": {},
     "output_type": "execute_result"
    }
   ],
   "source": [
    "frecuencias_df = frecuencias.reset_index()\n",
    "\n",
    "frecuencias_df.columns = ['Bin', 'Frecuencia']\n",
    "\n",
    "frecuencias_df"
   ]
  },
  {
   "cell_type": "code",
   "execution_count": 11,
   "id": "c6eebb56",
   "metadata": {},
   "outputs": [
    {
     "data": {
      "text/html": [
       "<div>\n",
       "<style scoped>\n",
       "    .dataframe tbody tr th:only-of-type {\n",
       "        vertical-align: middle;\n",
       "    }\n",
       "\n",
       "    .dataframe tbody tr th {\n",
       "        vertical-align: top;\n",
       "    }\n",
       "\n",
       "    .dataframe thead th {\n",
       "        text-align: right;\n",
       "    }\n",
       "</style>\n",
       "<table border=\"1\" class=\"dataframe\">\n",
       "  <thead>\n",
       "    <tr style=\"text-align: right;\">\n",
       "      <th></th>\n",
       "      <th>Bin</th>\n",
       "      <th>Frecuencia</th>\n",
       "      <th>Limite Inferior</th>\n",
       "      <th>Limite Superior</th>\n",
       "      <th>Promedio</th>\n",
       "    </tr>\n",
       "  </thead>\n",
       "  <tbody>\n",
       "    <tr>\n",
       "      <th>0</th>\n",
       "      <td>(0, 20]</td>\n",
       "      <td>0</td>\n",
       "      <td>0</td>\n",
       "      <td>20</td>\n",
       "      <td>10.0</td>\n",
       "    </tr>\n",
       "    <tr>\n",
       "      <th>1</th>\n",
       "      <td>(20, 40]</td>\n",
       "      <td>6189</td>\n",
       "      <td>20</td>\n",
       "      <td>40</td>\n",
       "      <td>30.0</td>\n",
       "    </tr>\n",
       "    <tr>\n",
       "      <th>2</th>\n",
       "      <td>(40, 60]</td>\n",
       "      <td>5894</td>\n",
       "      <td>40</td>\n",
       "      <td>60</td>\n",
       "      <td>50.0</td>\n",
       "    </tr>\n",
       "    <tr>\n",
       "      <th>3</th>\n",
       "      <td>(60, 80]</td>\n",
       "      <td>628</td>\n",
       "      <td>60</td>\n",
       "      <td>80</td>\n",
       "      <td>70.0</td>\n",
       "    </tr>\n",
       "    <tr>\n",
       "      <th>4</th>\n",
       "      <td>(80, 100]</td>\n",
       "      <td>963</td>\n",
       "      <td>80</td>\n",
       "      <td>100</td>\n",
       "      <td>90.0</td>\n",
       "    </tr>\n",
       "    <tr>\n",
       "      <th>...</th>\n",
       "      <td>...</td>\n",
       "      <td>...</td>\n",
       "      <td>...</td>\n",
       "      <td>...</td>\n",
       "      <td>...</td>\n",
       "    </tr>\n",
       "    <tr>\n",
       "      <th>1995</th>\n",
       "      <td>(39900, 39920]</td>\n",
       "      <td>0</td>\n",
       "      <td>39900</td>\n",
       "      <td>39920</td>\n",
       "      <td>39910.0</td>\n",
       "    </tr>\n",
       "    <tr>\n",
       "      <th>1996</th>\n",
       "      <td>(39920, 39940]</td>\n",
       "      <td>0</td>\n",
       "      <td>39920</td>\n",
       "      <td>39940</td>\n",
       "      <td>39930.0</td>\n",
       "    </tr>\n",
       "    <tr>\n",
       "      <th>1997</th>\n",
       "      <td>(39940, 39960]</td>\n",
       "      <td>0</td>\n",
       "      <td>39940</td>\n",
       "      <td>39960</td>\n",
       "      <td>39950.0</td>\n",
       "    </tr>\n",
       "    <tr>\n",
       "      <th>1998</th>\n",
       "      <td>(39960, 39980]</td>\n",
       "      <td>0</td>\n",
       "      <td>39960</td>\n",
       "      <td>39980</td>\n",
       "      <td>39970.0</td>\n",
       "    </tr>\n",
       "    <tr>\n",
       "      <th>1999</th>\n",
       "      <td>(39980, 40000]</td>\n",
       "      <td>0</td>\n",
       "      <td>39980</td>\n",
       "      <td>40000</td>\n",
       "      <td>39990.0</td>\n",
       "    </tr>\n",
       "  </tbody>\n",
       "</table>\n",
       "<p>2000 rows × 5 columns</p>\n",
       "</div>"
      ],
      "text/plain": [
       "                 Bin  Frecuencia Limite Inferior Limite Superior  Promedio\n",
       "0            (0, 20]           0               0              20      10.0\n",
       "1           (20, 40]        6189              20              40      30.0\n",
       "2           (40, 60]        5894              40              60      50.0\n",
       "3           (60, 80]         628              60              80      70.0\n",
       "4          (80, 100]         963              80             100      90.0\n",
       "...              ...         ...             ...             ...       ...\n",
       "1995  (39900, 39920]           0           39900           39920   39910.0\n",
       "1996  (39920, 39940]           0           39920           39940   39930.0\n",
       "1997  (39940, 39960]           0           39940           39960   39950.0\n",
       "1998  (39960, 39980]           0           39960           39980   39970.0\n",
       "1999  (39980, 40000]           0           39980           40000   39990.0\n",
       "\n",
       "[2000 rows x 5 columns]"
      ]
     },
     "execution_count": 11,
     "metadata": {},
     "output_type": "execute_result"
    }
   ],
   "source": [
    "frecuencias_df['Limite Inferior'] = frecuencias_df['Bin'].apply(lambda x: x.left)\n",
    "frecuencias_df['Limite Superior'] = frecuencias_df['Bin'].apply(lambda x: x.right)\n",
    "\n",
    "frecuencias_df['Promedio'] = (frecuencias_df['Limite Inferior'].astype(float) + frecuencias_df['Limite Superior'].astype(float)) / 2\n",
    "\n",
    "frecuencias_df"
   ]
  },
  {
   "cell_type": "code",
   "execution_count": 12,
   "id": "9e3db71f",
   "metadata": {},
   "outputs": [
    {
     "data": {
      "text/plain": [
       "180"
      ]
     },
     "execution_count": 12,
     "metadata": {},
     "output_type": "execute_result"
    }
   ],
   "source": [
    "most_frequent_value = tiempos.value_counts().idxmax()\n",
    "\n",
    "most_frequent_value"
   ]
  },
  {
   "cell_type": "code",
   "execution_count": 13,
   "id": "a3322de7",
   "metadata": {},
   "outputs": [
    {
     "data": {
      "text/plain": [
       "Text(0.5, 1.0, 'Histograma Final')"
      ]
     },
     "execution_count": 13,
     "metadata": {},
     "output_type": "execute_result"
    },
    {
     "data": {
      "image/png": "[encoded data removed]",
      "text/plain": [
       "<Figure size 640x480 with 1 Axes>"
      ]
     },
     "metadata": {},
     "output_type": "display_data"
    }
   ],
   "source": [
    "plt.hist(tiempos, bins=separador_bins, edgecolor='black', alpha=0.7)\n",
    "\n",
    "plt.xlabel('Tiempo (ns)')\n",
    "plt.ylabel('Frecuencia')\n",
    "plt.title('Histograma Final')"
   ]
  },
  {
   "cell_type": "code",
   "execution_count": 14,
   "id": "a7c70c79",
   "metadata": {},
   "outputs": [],
   "source": [
    "tiempo_prom, frecuencia=np.array(frecuencias_df['Promedio']), np.array(frecuencias_df['Frecuencia'])"
   ]
  },
  {
   "cell_type": "code",
   "execution_count": 15,
   "id": "9910c424",
   "metadata": {},
   "outputs": [],
   "source": [
    "f_cum=np.cumsum(frecuencia)\n",
    "\n",
    "total_decaimientos = frecuencias_df['Frecuencia'].sum()"
   ]
  },
  {
   "cell_type": "code",
   "execution_count": 16,
   "id": "30f2ce2d",
   "metadata": {},
   "outputs": [],
   "source": [
    "decaimiento=total_decaimientos-f_cum\n",
    "#decay[-1]=1/10000000\n"
   ]
  },
  {
   "cell_type": "code",
   "execution_count": 17,
   "id": "26c8553c",
   "metadata": {},
   "outputs": [
    {
     "data": {
      "text/plain": [
       "Text(0, 0.5, 'Frecuencia')"
      ]
     },
     "execution_count": 17,
     "metadata": {},
     "output_type": "execute_result"
    },
    {
     "data": {
      "image/png": "[encoded data removed]",
      "text/plain": [
       "<Figure size 640x480 with 1 Axes>"
      ]
     },
     "metadata": {},
     "output_type": "display_data"
    }
   ],
   "source": [
    "plt.scatter(tiempo_prom, decaimiento, s=1)\n",
    "plt.xlabel('Muon Decay Time (ms)')\n",
    "plt.ylabel('Frecuencia')"
   ]
  },
  {
   "cell_type": "code",
   "execution_count": 18,
   "id": "7eec30a9",
   "metadata": {},
   "outputs": [],
   "source": [
    "def fit_ruido(X, tau, B):\n",
    "    return (total_decaimientos)*np.exp(-X/tau) + B\n",
    "\n",
    "popt, pcov = curve_fit( fit_ruido, tiempo_prom, decaimiento, p0 = (2.2, 0), absolute_sigma=True, maxfev = 10000 )"
   ]
  },
  {
   "cell_type": "code",
   "execution_count": 19,
   "id": "48c189f0",
   "metadata": {},
   "outputs": [
    {
     "name": "stdout",
     "output_type": "stream",
     "text": [
      "1856.7155120134332\n",
      "5729.619507435102\n"
     ]
    }
   ],
   "source": [
    "tau_ruido = popt[0]\n",
    "B = popt[1]\n",
    "\n",
    "print(tau_ruido)\n",
    "print(B)"
   ]
  },
  {
   "cell_type": "code",
   "execution_count": 20,
   "id": "2bfd548d",
   "metadata": {},
   "outputs": [
    {
     "data": {
      "text/plain": [
       "<matplotlib.collections.PathCollection at 0x11701353790>"
      ]
     },
     "execution_count": 20,
     "metadata": {},
     "output_type": "execute_result"
    },
    {
     "data": {
      "image/png": "[encoded data removed]",
      "text/plain": [
       "<Figure size 640x480 with 1 Axes>"
      ]
     },
     "metadata": {},
     "output_type": "display_data"
    }
   ],
   "source": [
    "X = np.linspace(0, 40000, 400001)\n",
    "plt.plot( X, fit_ruido(X, tau_ruido, B), color=\"red\", linestyle=\"--\" )\n",
    "\n",
    "plt.scatter(tiempo_prom, decaimiento, s=1)"
   ]
  },
  {
   "cell_type": "code",
   "execution_count": 21,
   "id": "b74ca470",
   "metadata": {},
   "outputs": [
    {
     "data": {
      "text/html": [
       "<div>\n",
       "<style scoped>\n",
       "    .dataframe tbody tr th:only-of-type {\n",
       "        vertical-align: middle;\n",
       "    }\n",
       "\n",
       "    .dataframe tbody tr th {\n",
       "        vertical-align: top;\n",
       "    }\n",
       "\n",
       "    .dataframe thead th {\n",
       "        text-align: right;\n",
       "    }\n",
       "</style>\n",
       "<table border=\"1\" class=\"dataframe\">\n",
       "  <thead>\n",
       "    <tr style=\"text-align: right;\">\n",
       "      <th></th>\n",
       "      <th>Bin</th>\n",
       "      <th>Frecuencia</th>\n",
       "      <th>Limite Inferior</th>\n",
       "      <th>Limite Superior</th>\n",
       "      <th>Promedio</th>\n",
       "    </tr>\n",
       "  </thead>\n",
       "  <tbody>\n",
       "    <tr>\n",
       "      <th>0</th>\n",
       "      <td>(0, 20]</td>\n",
       "      <td>0</td>\n",
       "      <td>0</td>\n",
       "      <td>20</td>\n",
       "      <td>10.0</td>\n",
       "    </tr>\n",
       "    <tr>\n",
       "      <th>1</th>\n",
       "      <td>(20, 40]</td>\n",
       "      <td>6189</td>\n",
       "      <td>20</td>\n",
       "      <td>40</td>\n",
       "      <td>30.0</td>\n",
       "    </tr>\n",
       "    <tr>\n",
       "      <th>2</th>\n",
       "      <td>(40, 60]</td>\n",
       "      <td>5894</td>\n",
       "      <td>40</td>\n",
       "      <td>60</td>\n",
       "      <td>50.0</td>\n",
       "    </tr>\n",
       "    <tr>\n",
       "      <th>3</th>\n",
       "      <td>(60, 80]</td>\n",
       "      <td>628</td>\n",
       "      <td>60</td>\n",
       "      <td>80</td>\n",
       "      <td>70.0</td>\n",
       "    </tr>\n",
       "    <tr>\n",
       "      <th>4</th>\n",
       "      <td>(80, 100]</td>\n",
       "      <td>963</td>\n",
       "      <td>80</td>\n",
       "      <td>100</td>\n",
       "      <td>90.0</td>\n",
       "    </tr>\n",
       "    <tr>\n",
       "      <th>...</th>\n",
       "      <td>...</td>\n",
       "      <td>...</td>\n",
       "      <td>...</td>\n",
       "      <td>...</td>\n",
       "      <td>...</td>\n",
       "    </tr>\n",
       "    <tr>\n",
       "      <th>994</th>\n",
       "      <td>(19880, 19900]</td>\n",
       "      <td>99</td>\n",
       "      <td>19880</td>\n",
       "      <td>19900</td>\n",
       "      <td>19890.0</td>\n",
       "    </tr>\n",
       "    <tr>\n",
       "      <th>995</th>\n",
       "      <td>(19900, 19920]</td>\n",
       "      <td>157</td>\n",
       "      <td>19900</td>\n",
       "      <td>19920</td>\n",
       "      <td>19910.0</td>\n",
       "    </tr>\n",
       "    <tr>\n",
       "      <th>996</th>\n",
       "      <td>(19920, 19940]</td>\n",
       "      <td>54</td>\n",
       "      <td>19920</td>\n",
       "      <td>19940</td>\n",
       "      <td>19930.0</td>\n",
       "    </tr>\n",
       "    <tr>\n",
       "      <th>997</th>\n",
       "      <td>(19940, 19960]</td>\n",
       "      <td>40</td>\n",
       "      <td>19940</td>\n",
       "      <td>19960</td>\n",
       "      <td>19950.0</td>\n",
       "    </tr>\n",
       "    <tr>\n",
       "      <th>998</th>\n",
       "      <td>(19960, 19980]</td>\n",
       "      <td>66</td>\n",
       "      <td>19960</td>\n",
       "      <td>19980</td>\n",
       "      <td>19970.0</td>\n",
       "    </tr>\n",
       "  </tbody>\n",
       "</table>\n",
       "<p>999 rows × 5 columns</p>\n",
       "</div>"
      ],
      "text/plain": [
       "                Bin  Frecuencia Limite Inferior Limite Superior  Promedio\n",
       "0           (0, 20]           0               0              20      10.0\n",
       "1          (20, 40]        6189              20              40      30.0\n",
       "2          (40, 60]        5894              40              60      50.0\n",
       "3          (60, 80]         628              60              80      70.0\n",
       "4         (80, 100]         963              80             100      90.0\n",
       "..              ...         ...             ...             ...       ...\n",
       "994  (19880, 19900]          99           19880           19900   19890.0\n",
       "995  (19900, 19920]         157           19900           19920   19910.0\n",
       "996  (19920, 19940]          54           19920           19940   19930.0\n",
       "997  (19940, 19960]          40           19940           19960   19950.0\n",
       "998  (19960, 19980]          66           19960           19980   19970.0\n",
       "\n",
       "[999 rows x 5 columns]"
      ]
     },
     "execution_count": 21,
     "metadata": {},
     "output_type": "execute_result"
    }
   ],
   "source": [
    "last_non_zero_index = frecuencias_df[frecuencias_df['Frecuencia'] > 0].index[-1]\n",
    "\n",
    "frecuencias_df_filtrada = frecuencias_df.loc[:last_non_zero_index]\n",
    "\n",
    "frecuencias_df_filtrada"
   ]
  },
  {
   "cell_type": "code",
   "execution_count": 22,
   "id": "f35fa16f",
   "metadata": {},
   "outputs": [],
   "source": [
    "tiempo_prom, frecuencia=np.array(frecuencias_df['Promedio']), np.array(frecuencias_df['Frecuencia'])"
   ]
  },
  {
   "cell_type": "code",
   "execution_count": 23,
   "id": "6c1a61e9",
   "metadata": {},
   "outputs": [],
   "source": [
    "f_cum=np.cumsum(frecuencia)\n",
    "\n",
    "total_decaimientos = frecuencias_df['Frecuencia'].sum() - B"
   ]
  },
  {
   "cell_type": "code",
   "execution_count": 24,
   "id": "aa84b71b",
   "metadata": {},
   "outputs": [],
   "source": [
    "decaimiento=total_decaimientos - f_cum - B"
   ]
  },
  {
   "cell_type": "code",
   "execution_count": 25,
   "id": "6aac2835",
   "metadata": {},
   "outputs": [
    {
     "data": {
      "text/plain": [
       "<matplotlib.collections.PathCollection at 0x117010421d0>"
      ]
     },
     "execution_count": 25,
     "metadata": {},
     "output_type": "execute_result"
    },
    {
     "data": {
      "image/png": "[encoded data removed]",
      "text/plain": [
       "<Figure size 640x480 with 1 Axes>"
      ]
     },
     "metadata": {},
     "output_type": "display_data"
    }
   ],
   "source": [
    "plt.scatter(tiempo_prom, decaimiento, s=1)"
   ]
  },
  {
   "cell_type": "code",
   "execution_count": 26,
   "id": "4c1f70f0",
   "metadata": {},
   "outputs": [],
   "source": [
    "def fit(X, tau, C):\n",
    "    return (total_decaimientos)*np.exp(-X/tau) + C\n",
    "\n",
    "popt, pcov = curve_fit( fit, tiempo_prom, decaimiento, p0 = (2.2, 0), absolute_sigma=True, maxfev = 100000 )"
   ]
  },
  {
   "cell_type": "code",
   "execution_count": 27,
   "id": "59ceb66b",
   "metadata": {},
   "outputs": [
    {
     "name": "stdout",
     "output_type": "stream",
     "text": [
      "1908.3995975772152\n",
      "-5836.415719416853\n"
     ]
    }
   ],
   "source": [
    "tau = popt[0]\n",
    "C = popt[1]\n",
    "\n",
    "print(tau)\n",
    "print(C)"
   ]
  },
  {
   "cell_type": "code",
   "execution_count": null,
   "id": "713dbe74",
   "metadata": {},
   "outputs": [],
   "source": []
  },
  {
   "cell_type": "code",
   "execution_count": null,
   "id": "0839dd94",
   "metadata": {},
   "outputs": [],
   "source": []
  }
 ],
 "metadata": {
  "kernelspec": {
   "display_name": "Python 3 (ipykernel)",
   "language": "python",
   "name": "python3"
  },
  "language_info": {
   "codemirror_mode": {
    "name": "ipython",
    "version": 3
   },
   "file_extension": ".py",
   "mimetype": "text/x-python",
   "name": "python",
   "nbconvert_exporter": "python",
   "pygments_lexer": "ipython3",
   "version": "3.11.5"
  }
 },
 "nbformat": 4,
 "nbformat_minor": 5
}
